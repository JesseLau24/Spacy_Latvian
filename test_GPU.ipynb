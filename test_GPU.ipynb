{
 "cells": [
  {
   "cell_type": "code",
   "execution_count": 1,
   "id": "9fd365f2",
   "metadata": {},
   "outputs": [
    {
     "name": "stdout",
     "output_type": "stream",
     "text": [
      "OS                           : Linux-6.14.0-28-generic-x86_64-with-glibc2.39\n",
      "Python Version               : 3.12.3\n",
      "CuPy Version                 : 13.6.0\n",
      "CuPy Platform                : NVIDIA CUDA\n",
      "NumPy Version                : 2.3.2\n",
      "SciPy Version                : None\n",
      "Cython Build Version         : 3.0.12\n",
      "Cython Runtime Version       : None\n",
      "CUDA Root                    : /usr/local/cuda-12.8\n",
      "nvcc PATH                    : /usr/local/cuda-12.8/bin/nvcc\n",
      "CUDA Build Version           : 12090\n",
      "CUDA Driver Version          : 12080\n",
      "CUDA Runtime Version         : 12090 (linked to CuPy) / 12080 (locally installed)\n",
      "CUDA Extra Include Dirs      : ['/home/jesse/Projects/myenvs/spacy_lv/lib/python3.12/site-packages/nvidia/cuda_runtime/include']\n",
      "cuBLAS Version               : (available)\n",
      "cuFFT Version                : 11303\n",
      "cuRAND Version               : 10309\n",
      "cuSOLVER Version             : (11, 7, 3)\n",
      "cuSPARSE Version             : (available)\n",
      "NVRTC Version                : (12, 8)\n",
      "Thrust Version               : 200800\n",
      "CUB Build Version            : 200800\n",
      "Jitify Build Version         : <unknown>\n",
      "cuDNN Build Version          : (not loaded; try `import cupy.cuda.cudnn` first)\n",
      "cuDNN Version                : (not loaded; try `import cupy.cuda.cudnn` first)\n",
      "NCCL Build Version           : (not loaded; try `import cupy.cuda.nccl` first)\n",
      "NCCL Runtime Version         : (not loaded; try `import cupy.cuda.nccl` first)\n",
      "cuTENSOR Version             : None\n",
      "cuSPARSELt Build Version     : None\n",
      "Device 0 Name                : NVIDIA GeForce RTX 5080\n",
      "Device 0 Compute Capability  : 120\n",
      "Device 0 PCI Bus ID          : 0000:01:00.0\n",
      "None\n"
     ]
    }
   ],
   "source": [
    "import cupy\n",
    "\n",
    "print(cupy.show_config())\n"
   ]
  },
  {
   "cell_type": "code",
   "execution_count": 2,
   "id": "0abc3e34",
   "metadata": {},
   "outputs": [
    {
     "data": {
      "text/plain": [
       "{'spacy_version': '3.8.7',\n",
       " 'location': '/home/jesse/Projects/myenvs/spacy_lv/lib/python3.12/site-packages/spacy',\n",
       " 'platform': 'Linux-6.14.0-28-generic-x86_64-with-glibc2.39',\n",
       " 'python_version': '3.12.3',\n",
       " 'pipelines': {}}"
      ]
     },
     "execution_count": 2,
     "metadata": {},
     "output_type": "execute_result"
    }
   ],
   "source": [
    "# Cell 1: \n",
    "import spacy \n",
    "from pathlib import Path \n",
    "import os \n",
    "# 查看 spaCy 版本和可用组件 \n",
    "spacy.info()"
   ]
  },
  {
   "cell_type": "code",
   "execution_count": 3,
   "id": "b7082887",
   "metadata": {},
   "outputs": [],
   "source": [
    "# Cell 2:\n",
    "# 创建 corpus 和 models 文件夹\n",
    "Path(\"./corpus\").mkdir(parents=True, exist_ok=True)\n",
    "Path(\"./models\").mkdir(parents=True, exist_ok=True)\n"
   ]
  },
  {
   "cell_type": "code",
   "execution_count": 4,
   "id": "8196113b",
   "metadata": {},
   "outputs": [
    {
     "name": "stdout",
     "output_type": "stream",
     "text": [
      "\u001b[38;5;4mℹ Grouping every 1 sentences into a document.\u001b[0m\n",
      "\u001b[38;5;3m⚠ To generate better training data, you may want to group sentences\n",
      "into documents with `-n 10`.\u001b[0m\n",
      "\u001b[38;5;2m✔ Generated output file (15055 documents):\n",
      "corpus/lv_lvtb-ud-train.spacy\u001b[0m\n",
      "\u001b[38;5;4mℹ Grouping every 1 sentences into a document.\u001b[0m\n",
      "\u001b[38;5;3m⚠ To generate better training data, you may want to group sentences\n",
      "into documents with `-n 10`.\u001b[0m\n",
      "\u001b[38;5;2m✔ Generated output file (2080 documents):\n",
      "corpus/lv_lvtb-ud-dev.spacy\u001b[0m\n",
      "\u001b[38;5;4mℹ Grouping every 1 sentences into a document.\u001b[0m\n",
      "\u001b[38;5;3m⚠ To generate better training data, you may want to group sentences\n",
      "into documents with `-n 10`.\u001b[0m\n",
      "\u001b[38;5;2m✔ Generated output file (2396 documents):\n",
      "corpus/lv_lvtb-ud-test.spacy\u001b[0m\n"
     ]
    }
   ],
   "source": [
    "# Cell 3:\n",
    "!python -m spacy convert ud_latvian/lv_lvtb-ud-train.conllu ./corpus\n",
    "!python -m spacy convert ud_latvian/lv_lvtb-ud-dev.conllu ./corpus\n",
    "!python -m spacy convert ud_latvian/lv_lvtb-ud-test.conllu ./corpus\n"
   ]
  },
  {
   "cell_type": "code",
   "execution_count": 5,
   "id": "fb1ac994",
   "metadata": {},
   "outputs": [
    {
     "name": "stdout",
     "output_type": "stream",
     "text": [
      "\u001b[38;5;4mℹ Generated config template specific for your use case\u001b[0m\n",
      "- Language: lv\n",
      "- Pipeline: tagger, morphologizer, parser\n",
      "- Optimize for: efficiency\n",
      "- Hardware: CPU\n",
      "- Transformer: None\n",
      "\u001b[38;5;2m✔ Auto-filled config with all values\u001b[0m\n",
      "\u001b[38;5;2m✔ Saved config\u001b[0m\n",
      "config.cfg\n",
      "You can now add your data and train your pipeline:\n",
      "python -m spacy train config.cfg --paths.train ./train.spacy --paths.dev ./dev.spacy\n"
     ]
    }
   ],
   "source": [
    "#Cell 4: \n",
    "!python -m spacy init config config.cfg --lang lv --pipeline tok2vec,tagger,morphologizer,parser --optimize efficiency\n"
   ]
  },
  {
   "cell_type": "code",
   "execution_count": 6,
   "id": "8d7add50",
   "metadata": {},
   "outputs": [
    {
     "name": "stdout",
     "output_type": "stream",
     "text": [
      "✅ 已经修改 config.cfg 的数据路径\n"
     ]
    }
   ],
   "source": [
    "# Cell 5: \n",
    "cfg_text = Path(\"config.cfg\").read_text(encoding=\"utf-8\")\n",
    "cfg_text = cfg_text.replace(\"train = null\", \"train = ./corpus/lv_lvtb-ud-train.spacy\")\n",
    "cfg_text = cfg_text.replace(\"dev = null\", \"dev = ./corpus/lv_lvtb-ud-dev.spacy\")\n",
    "Path(\"config.cfg\").write_text(cfg_text, encoding=\"utf-8\")\n",
    "print(\"✅ 已经修改 config.cfg 的数据路径\")\n"
   ]
  },
  {
   "cell_type": "code",
   "execution_count": 7,
   "id": "645e8e0a",
   "metadata": {},
   "outputs": [
    {
     "name": "stdout",
     "output_type": "stream",
     "text": [
      "\u001b[38;5;4mℹ Saving to output directory: models\u001b[0m\n",
      "\u001b[38;5;4mℹ Using GPU: 0\u001b[0m\n",
      "\u001b[1m\n",
      "=========================== Initializing pipeline ===========================\u001b[0m\n",
      "\u001b[38;5;2m✔ Initialized pipeline\u001b[0m\n",
      "\u001b[1m\n",
      "============================= Training pipeline =============================\u001b[0m\n",
      "\u001b[38;5;4mℹ Pipeline: ['tok2vec', 'tagger', 'morphologizer', 'parser']\u001b[0m\n",
      "\u001b[38;5;4mℹ Initial learn rate: 0.001\u001b[0m\n",
      "E    #       LOSS TOK2VEC  LOSS TAGGER  LOSS MORPH...  LOSS PARSER  TAG_ACC  POS_ACC  MORPH_ACC  DEP_UAS  DEP_LAS  SENTS_F  SCORE \n",
      "---  ------  ------------  -----------  -------------  -----------  -------  -------  ---------  -------  -------  -------  ------\n",
      "  0       0          0.00        87.49          87.46       278.06    14.64    25.48      15.06     7.89     6.41     0.08    0.14\n",
      "  0     200       2697.94     13466.27       12736.27     24679.18    45.74    74.21      52.00    49.74    30.81    77.26    0.50\n",
      "  0     400       5505.20     12785.04       11611.23     23291.23    60.86    83.65      68.25    59.64    43.57    87.89    0.63\n",
      "  0     600       7751.16     12727.65       11000.96     26081.29    69.11    87.62      76.24    64.52    50.55    85.52    0.70\n",
      "  0     800       9447.03     13309.67       10988.74     27745.90    73.30    89.80      80.29    67.34    55.67    95.91    0.74\n",
      "  0    1000      12100.97     14566.81       11851.61     31760.14    76.85    91.24      82.90    69.97    60.21    94.44    0.77\n",
      "  0    1200      14748.92     16065.58       12980.83     35918.75    78.86    92.25      84.90    71.86    63.53    97.92    0.79\n",
      "  1    1400      17867.91     17487.11       13891.96     40514.68    80.35    92.96      86.10    74.37    66.46    98.33    0.81\n",
      "  1    1600      21712.00     18817.77       14679.28     44897.32    81.96    93.23      87.26    76.04    68.57    99.64    0.82\n",
      "  1    1800      27144.23     21975.33       17143.74     52707.16    83.26    93.98      88.24    76.86    69.93    99.57    0.83\n",
      "  2    2000      32731.20     23600.06       18082.07     58005.87    84.11    94.20      88.84    77.88    71.37    99.78    0.84\n",
      "  2    2200      40621.17     27349.02       20894.66     66835.23    84.63    94.31      89.04    78.45    72.30    99.64    0.85\n",
      "  3    2400      47588.79     28333.02       21081.09     71837.69    85.39    94.75      89.87    79.07    73.15    99.78    0.85\n",
      "  4    2600      49309.48     27013.65       20084.56     69013.04    85.64    94.65      89.79    79.34    73.45    99.78    0.86\n",
      "  5    2800      50701.86     25611.95       18959.49     65660.33    86.05    94.86      90.22    79.86    73.93    99.86    0.86\n",
      "  6    3000      52656.85     24472.39       17931.74     63274.68    86.26    94.93      90.27    80.48    74.75    99.78    0.86\n",
      "  6    3200      53212.32     22481.28       16307.83     58884.86    86.45    94.99      90.60    80.66    74.96   100.00    0.87\n",
      "  7    3400      53838.79     21060.17       15288.10     56376.54    86.54    95.03      90.60    80.36    74.77    99.78    0.86\n",
      "  8    3600      55024.70     20686.54       14990.12     54652.13    86.85    95.14      90.62    80.43    74.88    99.78    0.87\n",
      "  9    3800      57551.85     19992.34       14457.40     53274.16    86.93    95.15      90.71    80.39    74.94    99.86    0.87\n",
      "  9    4000      57560.69     18910.78       13550.56     49540.74    86.93    95.06      90.73    80.64    75.17    99.86    0.87\n",
      " 10    4200      59013.57     18006.17       12813.70     48064.69    86.91    95.03      90.72    80.56    75.01    99.71    0.87\n",
      " 11    4400      59873.91     17513.08       12559.34     46996.93    86.97    95.20      90.85    80.77    75.20    99.78    0.87\n",
      " 12    4600      61737.60     17135.02       12196.79     45916.89    86.88    95.20      90.81    80.26    74.85    99.71    0.87\n",
      " 12    4800      62619.64     16558.18       11769.48     43602.92    87.12    95.21      90.86    80.65    75.16    99.71    0.87\n",
      " 13    5000      64190.05     15532.45       11011.65     42579.72    87.16    95.31      90.84    80.60    75.31    99.86    0.87\n",
      " 14    5200      64593.80     15504.12       10947.94     41386.05    86.96    95.20      90.85    80.98    75.47    99.86    0.87\n",
      " 15    5400      66530.29     15460.61       10932.13     40711.98    87.25    95.23      90.94    80.97    75.65    99.86    0.87\n",
      " 15    5600      69361.64     14976.90       10567.00     40109.02    87.38    95.23      91.08    81.25    75.76    99.64    0.87\n",
      " 16    5800      67407.77     14034.24        9828.55     37278.06    87.02    95.15      90.82    81.36    75.80    99.78    0.87\n",
      " 17    6000      69392.92     13932.60        9821.70     37475.09    87.18    95.12      90.98    81.39    75.83    99.78    0.87\n",
      " 18    6200      72505.16     13943.19        9827.01     37473.52    87.23    95.27      90.96    80.76    75.30    99.71    0.87\n",
      " 18    6400      75070.77     13988.13        9864.85     36588.06    87.24    95.34      91.02    81.58    76.24    99.86    0.87\n",
      " 19    6600      72601.64     13017.74        9126.83     33938.59    87.38    95.37      91.08    81.29    75.84    99.71    0.87\n",
      " 20    6800      74622.61     12961.93        9024.30     33532.67    87.26    95.27      90.92    81.44    76.10    99.71    0.87\n",
      " 21    7000      76794.41     12844.68        8920.55     33286.65    87.33    95.43      90.96    81.09    75.61    99.78    0.87\n",
      " 22    7200      78373.24     12595.26        8872.61     33146.94    87.31    95.37      91.09    81.21    75.77    99.71    0.87\n",
      " 22    7400      78617.37     12177.47        8540.34     31509.33    87.14    95.30      90.99    81.74    76.13    99.78    0.87\n",
      " 23    7600      79613.76     12013.35        8412.64     31049.19    87.31    95.34      91.01    81.09    75.63    99.86    0.87\n",
      " 24    7800      81703.69     11946.92        8362.94     30804.73    87.32    95.39      90.99    81.34    76.00    99.93    0.87\n",
      " 25    8000      85264.60     11858.98        8257.05     31168.76    87.41    95.33      91.07    81.76    76.53    99.71    0.87\n",
      " 25    8200      84108.33     11649.61        8085.15     29487.25    87.42    95.32      91.02    81.44    76.26    99.86    0.87\n",
      " 26    8400      84716.70     11316.58        7857.80     28675.87    87.42    95.35      91.05    81.74    76.25    99.78    0.87\n",
      " 27    8600      86534.60     11199.97        7743.13     28227.33    87.36    95.34      91.12    81.50    76.16    99.86    0.87\n",
      " 28    8800      90838.47     11397.08        7935.17     28745.48    87.53    95.41      91.18    81.51    76.17    99.86    0.87\n",
      " 28    9000      89698.18     11193.40        7758.40     27611.84    87.43    95.40      91.12    81.56    76.31    99.35    0.87\n",
      " 29    9200      90331.29     10909.26        7556.88     26645.14    87.39    95.30      91.09    81.65    76.39    99.64    0.87\n",
      " 30    9400      92702.76     10711.36        7430.59     26736.80    87.47    95.28      91.14    81.57    76.35    99.86    0.87\n",
      " 31    9600      96360.74     10763.08        7462.56     26991.17    87.46    95.29      91.08    81.76    76.49    99.78    0.87\n",
      " 31    9800      96881.92     10889.66        7486.49     26440.16    87.49    95.42      91.15    81.54    76.18    99.71    0.87\n",
      " 32   10000      91838.75     10018.81        6928.59     24346.50    87.43    95.24      90.99    81.57    76.18    99.78    0.87\n",
      " 33   10200      97458.20     10187.03        7048.82     24849.65    87.42    95.37      91.21    81.65    76.28    99.64    0.87\n",
      " 34   10400      99085.86     10190.95        7079.35     24937.19    87.38    95.31      91.21    81.36    75.95    99.71    0.87\n",
      " 35   10600     103085.24     10420.96        7168.75     25284.38    87.55    95.42      91.24    81.47    76.22    99.64    0.87\n",
      " 35   10800     100372.02      9831.98        6832.98     23657.79    87.61    95.36      91.27    81.38    76.21    99.64    0.87\n",
      " 36   11000     101099.40      9696.73        6757.19     23332.27    87.48    95.34      91.19    81.42    76.09    99.78    0.87\n",
      " 37   11200     103432.79      9672.76        6683.13     23615.74    87.34    95.29      91.08    82.04    76.80    99.50    0.88\n",
      " 38   11400     108485.78      9937.61        6807.01     23683.62    87.60    95.37      91.20    81.93    76.74    99.86    0.88\n",
      " 38   11600     109166.15      9581.58        6675.25     23209.96    87.54    95.46      91.36    81.71    76.40    99.86    0.88\n",
      " 39   11800     107045.25      9255.84        6408.34     22505.64    87.59    95.38      91.19    81.69    76.31    99.78    0.87\n",
      " 40   12000     108427.05      9362.25        6431.57     22246.31    87.43    95.38      91.14    81.70    76.49    99.78    0.87\n",
      " 41   12200     110308.45      9448.47        6513.16     22161.48    87.62    95.31      91.17    81.76    76.41    99.64    0.88\n",
      " 41   12400     112199.65      9434.06        6511.34     21474.47    87.57    95.34      91.32    81.84    76.37    99.71    0.88\n",
      " 42   12600     110314.35      8955.67        6148.13     21185.41    87.62    95.40      91.28    81.89    76.47    99.93    0.88\n",
      " 43   12800     112886.15      8988.09        6272.73     21048.49    87.53    95.39      91.28    82.10    76.70    99.57    0.88\n",
      " 44   13000     120723.84      9118.20        6304.27     21847.15    87.57    95.41      91.29    81.97    76.65    99.86    0.88\n",
      " 44   13200     116737.66      9159.80        6200.79     20667.88    87.57    95.42      91.25    81.96    76.81    99.50    0.88\n",
      " 45   13400     118503.00      8779.73        6082.78     20644.40    87.49    95.43      91.21    81.98    76.81    99.71    0.88\n",
      " 46   13600     116971.64      8729.70        5983.25     20131.50    87.56    95.43      91.21    81.75    76.50    99.64    0.88\n",
      " 47   13800     122291.81      8785.68        6124.20     20547.28    87.54    95.43      91.27    81.52    76.17    99.64    0.87\n",
      " 47   14000     125409.51      9028.13        6217.67     20355.16    87.68    95.45      91.40    81.79    76.53    99.64    0.88\n",
      " 48   14200     121044.26      8560.92        5896.76     19490.29    87.52    95.44      91.19    81.87    76.48    99.35    0.88\n",
      " 49   14400     123540.38      8528.96        5859.02     19358.29    87.55    95.44      91.32    81.55    76.23    99.64    0.87\n",
      " 50   14600     127060.84      8509.70        5903.70     19491.85    87.63    95.45      91.30    81.76    76.59    99.57    0.88\n",
      " 51   14800     131474.55      8838.19        6076.21     19603.87    87.67    95.50      91.40    81.68    76.38    99.57    0.88\n",
      "\u001b[38;5;2m✔ Saved pipeline to output directory\u001b[0m\n",
      "models/model-last\n"
     ]
    }
   ],
   "source": [
    "# Cell 6: 使用 GPU 训练 \n",
    "!python -m spacy train config.cfg --output ./models --paths.train ./corpus/lv_lvtb-ud-train.spacy --paths.dev ./corpus/lv_lvtb-ud-dev.spacy --gpu-id 0"
   ]
  },
  {
   "cell_type": "code",
   "execution_count": 8,
   "id": "6bd858d5",
   "metadata": {},
   "outputs": [
    {
     "name": "stdout",
     "output_type": "stream",
     "text": [
      "\u001b[38;5;4mℹ Using CPU\u001b[0m\n",
      "\u001b[38;5;4mℹ To switch to GPU 0, use the option: --gpu-id 0\u001b[0m\n",
      "\u001b[1m\n",
      "================================== Results ==================================\u001b[0m\n",
      "\n",
      "TOK      99.53\n",
      "TAG      87.06\n",
      "POS      94.98\n",
      "MORPH    90.93\n",
      "UAS      81.52\n",
      "LAS      75.78\n",
      "SENT P   99.75\n",
      "SENT R   99.87\n",
      "SENT F   99.81\n",
      "SPEED    14171\n",
      "\n",
      "\u001b[1m\n",
      "============================== MORPH (per feat) ==============================\u001b[0m\n",
      "\n",
      "                P        R        F\n",
      "ExtPos      92.86    84.17    88.30\n",
      "Case        92.19    91.75    91.97\n",
      "Gender      93.61    93.10    93.35\n",
      "Number      94.13    93.10    93.61\n",
      "Person      95.34    94.09    94.71\n",
      "PronType    98.31    97.94    98.13\n",
      "Evident     94.92    93.43    94.17\n",
      "Mood        94.30    92.42    93.35\n",
      "Polarity    94.84    93.28    94.05\n",
      "Tense       91.51    89.35    90.42\n",
      "VerbForm    93.30    91.75    92.52\n",
      "Voice       94.45    91.93    93.17\n",
      "Definite    90.98    89.17    90.07\n",
      "Degree      93.19    91.65    92.42\n",
      "Poss       100.00   100.00   100.00\n",
      "NumType     98.84    76.91    86.51\n",
      "Reflex      92.98    93.98    93.48\n",
      "Aspect      90.70    86.50    88.55\n",
      "Foreign     82.64    52.63    64.31\n",
      "Typo         0.00     0.00     0.00\n",
      "Abbr        93.62    80.37    86.49\n",
      "\n",
      "\u001b[1m\n",
      "=============================== LAS (per type) ===============================\u001b[0m\n",
      "\n",
      "                   P       R       F\n",
      "mark           86.41   86.41   86.41\n",
      "fixed          81.82   90.65   86.01\n",
      "nsubj          79.77   82.13   80.93\n",
      "discourse      66.06   53.53   59.14\n",
      "advcl          60.07   55.11   57.48\n",
      "amod           81.98   77.18   79.50\n",
      "obj            81.10   80.16   80.62\n",
      "cc             81.59   80.88   81.23\n",
      "det            85.71   85.15   85.43\n",
      "conj           58.98   62.30   60.59\n",
      "xcomp          77.58   74.62   76.07\n",
      "aux            92.03   91.67   91.85\n",
      "root           84.66   84.31   84.48\n",
      "nmod           77.66   79.06   78.35\n",
      "ccomp          70.89   70.42   70.66\n",
      "nummod         85.05   84.15   84.60\n",
      "case           91.05   90.37   90.71\n",
      "iobj           57.76   56.70   57.23\n",
      "advmod         78.27   83.22   80.67\n",
      "obl            71.18   65.50   68.22\n",
      "advmod:emph    72.41   68.23   70.26\n",
      "acl            70.55   65.79   68.09\n",
      "advmod:neg     51.61   64.00   57.14\n",
      "cop            73.21   75.37   74.27\n",
      "aux:pass       90.34   87.38   88.84\n",
      "nsubj:pass     79.77   80.71   80.23\n",
      "parataxis      56.12   49.55   52.63\n",
      "appos          56.41   32.84   41.51\n",
      "dep             3.15    4.30    3.64\n",
      "flat           60.29   50.00   54.67\n",
      "csubj          67.86   55.88   61.29\n",
      "flat:foreign   50.00   25.00   33.33\n",
      "flat:name      83.28   66.02   73.65\n",
      "orphan         18.46   12.00   14.55\n",
      "vocative       42.86   10.34   16.67\n",
      "reparandum      0.00    0.00    0.00\n",
      "csubj:pass     33.33   16.67   22.22\n",
      "compound       66.67   66.67   66.67\n",
      "goeswith        0.00    0.00    0.00\n",
      "dislocated      0.00    0.00    0.00\n",
      "\n"
     ]
    }
   ],
   "source": [
    "# Cell 7: \n",
    "!python -m spacy evaluate ./models/model-best ./corpus/lv_lvtb-ud-test.spacy\n"
   ]
  }
 ],
 "metadata": {
  "kernelspec": {
   "display_name": "spacy_lv",
   "language": "python",
   "name": "python3"
  },
  "language_info": {
   "codemirror_mode": {
    "name": "ipython",
    "version": 3
   },
   "file_extension": ".py",
   "mimetype": "text/x-python",
   "name": "python",
   "nbconvert_exporter": "python",
   "pygments_lexer": "ipython3",
   "version": "3.12.3"
  }
 },
 "nbformat": 4,
 "nbformat_minor": 5
}
