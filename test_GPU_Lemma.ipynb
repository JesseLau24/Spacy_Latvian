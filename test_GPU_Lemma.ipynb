{
 "cells": [
  {
   "cell_type": "markdown",
   "id": "6803f819",
   "metadata": {},
   "source": [
    "# There are still issues with Lemmatizer part. \n",
    "\n",
    "I am trying to understand the reason behind it. I guess if it doesn't work, I'll need to figure out what other measures I can take to achieve this.\n",
    "\n",
    "But I guess things would work out eventually and I just need to pay more attention.\n",
    "\n",
    "Afterall, this is my first day onto this task and I am already nailing it so more time given, things would work out just fine!"
   ]
  },
  {
   "cell_type": "code",
   "execution_count": 1,
   "id": "b1a19ada",
   "metadata": {},
   "outputs": [
    {
     "name": "stdout",
     "output_type": "stream",
     "text": [
      "OS                           : Linux-6.14.0-28-generic-x86_64-with-glibc2.39\n",
      "Python Version               : 3.12.3\n",
      "CuPy Version                 : 13.6.0\n",
      "CuPy Platform                : NVIDIA CUDA\n",
      "NumPy Version                : 2.3.2\n",
      "SciPy Version                : None\n",
      "Cython Build Version         : 3.0.12\n",
      "Cython Runtime Version       : None\n",
      "CUDA Root                    : /usr/local/cuda-12.8\n",
      "nvcc PATH                    : /usr/local/cuda-12.8/bin/nvcc\n",
      "CUDA Build Version           : 12090\n",
      "CUDA Driver Version          : 12080\n",
      "CUDA Runtime Version         : 12090 (linked to CuPy) / 12080 (locally installed)\n",
      "CUDA Extra Include Dirs      : ['/home/jesse/Projects/myenvs/spacy_lv/lib/python3.12/site-packages/nvidia/cuda_runtime/include']\n",
      "cuBLAS Version               : (available)\n",
      "cuFFT Version                : 11303\n",
      "cuRAND Version               : 10309\n",
      "cuSOLVER Version             : (11, 7, 3)\n",
      "cuSPARSE Version             : (available)\n",
      "NVRTC Version                : (12, 8)\n",
      "Thrust Version               : 200800\n",
      "CUB Build Version            : 200800\n",
      "Jitify Build Version         : <unknown>\n",
      "cuDNN Build Version          : (not loaded; try `import cupy.cuda.cudnn` first)\n",
      "cuDNN Version                : (not loaded; try `import cupy.cuda.cudnn` first)\n",
      "NCCL Build Version           : (not loaded; try `import cupy.cuda.nccl` first)\n",
      "NCCL Runtime Version         : (not loaded; try `import cupy.cuda.nccl` first)\n",
      "cuTENSOR Version             : None\n",
      "cuSPARSELt Build Version     : None\n",
      "Device 0 Name                : NVIDIA GeForce RTX 5080\n",
      "Device 0 Compute Capability  : 120\n",
      "Device 0 PCI Bus ID          : 0000:01:00.0\n",
      "None\n"
     ]
    }
   ],
   "source": [
    "import cupy\n",
    "print(cupy.show_config())\n"
   ]
  },
  {
   "cell_type": "code",
   "execution_count": 2,
   "id": "0abc3e34",
   "metadata": {},
   "outputs": [
    {
     "data": {
      "text/plain": [
       "{'spacy_version': '3.8.7',\n",
       " 'location': '/home/jesse/Projects/myenvs/spacy_lv/lib/python3.12/site-packages/spacy',\n",
       " 'platform': 'Linux-6.14.0-28-generic-x86_64-with-glibc2.39',\n",
       " 'python_version': '3.12.3',\n",
       " 'pipelines': {}}"
      ]
     },
     "execution_count": 2,
     "metadata": {},
     "output_type": "execute_result"
    }
   ],
   "source": [
    "# Cell 1: \n",
    "import spacy\n",
    "from pathlib import Path\n",
    "import os\n",
    "\n",
    "# 查看 spaCy 版本和可用组件\n",
    "spacy.info()\n"
   ]
  },
  {
   "cell_type": "code",
   "execution_count": 3,
   "id": "b7082887",
   "metadata": {},
   "outputs": [],
   "source": [
    "# Cell 2:\n",
    "# 创建 corpus 和 models 文件夹\n",
    "Path(\"./corpus\").mkdir(parents=True, exist_ok=True)\n",
    "Path(\"./models\").mkdir(parents=True, exist_ok=True)\n"
   ]
  },
  {
   "cell_type": "code",
   "execution_count": 4,
   "id": "8196113b",
   "metadata": {},
   "outputs": [
    {
     "name": "stdout",
     "output_type": "stream",
     "text": [
      "\u001b[38;5;4mℹ Grouping every 1 sentences into a document.\u001b[0m\n",
      "\u001b[38;5;3m⚠ To generate better training data, you may want to group sentences\n",
      "into documents with `-n 10`.\u001b[0m\n",
      "\u001b[38;5;2m✔ Generated output file (15055 documents):\n",
      "corpus/lv_lvtb-ud-train.spacy\u001b[0m\n",
      "\u001b[38;5;4mℹ Grouping every 1 sentences into a document.\u001b[0m\n",
      "\u001b[38;5;3m⚠ To generate better training data, you may want to group sentences\n",
      "into documents with `-n 10`.\u001b[0m\n",
      "\u001b[38;5;2m✔ Generated output file (2080 documents):\n",
      "corpus/lv_lvtb-ud-dev.spacy\u001b[0m\n",
      "\u001b[38;5;4mℹ Grouping every 1 sentences into a document.\u001b[0m\n",
      "\u001b[38;5;3m⚠ To generate better training data, you may want to group sentences\n",
      "into documents with `-n 10`.\u001b[0m\n",
      "\u001b[38;5;2m✔ Generated output file (2396 documents):\n",
      "corpus/lv_lvtb-ud-test.spacy\u001b[0m\n"
     ]
    }
   ],
   "source": [
    "# Cell 3:\n",
    "!python -m spacy convert ud_latvian/lv_lvtb-ud-train.conllu ./corpus\n",
    "!python -m spacy convert ud_latvian/lv_lvtb-ud-dev.conllu ./corpus\n",
    "!python -m spacy convert ud_latvian/lv_lvtb-ud-test.conllu ./corpus\n"
   ]
  },
  {
   "cell_type": "code",
   "execution_count": 5,
   "id": "fb1ac994",
   "metadata": {},
   "outputs": [
    {
     "name": "stdout",
     "output_type": "stream",
     "text": [
      "\u001b[38;5;4mℹ Generated config template specific for your use case\u001b[0m\n",
      "- Language: lv\n",
      "- Pipeline: tagger, morphologizer, parser, lemmatizer\n",
      "- Optimize for: efficiency\n",
      "- Hardware: CPU\n",
      "- Transformer: None\n",
      "\u001b[38;5;2m✔ Auto-filled config with all values\u001b[0m\n",
      "\u001b[38;5;2m✔ Saved config\u001b[0m\n",
      "config.cfg\n",
      "You can now add your data and train your pipeline:\n",
      "python -m spacy train config.cfg --paths.train ./train.spacy --paths.dev ./dev.spacy\n"
     ]
    }
   ],
   "source": [
    "# Cell 4: 初始化 config，并加入 lemmatizer\n",
    "!python -m spacy init config config.cfg --lang lv --pipeline tok2vec,tagger,morphologizer,parser,lemmatizer --optimize efficiency\n"
   ]
  },
  {
   "cell_type": "code",
   "execution_count": 6,
   "id": "8d7add50",
   "metadata": {},
   "outputs": [
    {
     "name": "stdout",
     "output_type": "stream",
     "text": [
      "✅ 已经修改 config.cfg 支持 trainable lemmatizer\n"
     ]
    }
   ],
   "source": [
    "from pathlib import Path\n",
    "\n",
    "# 读取原始 config.cfg\n",
    "cfg_path = Path(\"config.cfg\")\n",
    "cfg_text = cfg_path.read_text(encoding=\"utf-8\")\n",
    "\n",
    "# 设置训练和开发语料路径\n",
    "cfg_text = cfg_text.replace(\"train = null\", \"train = ./corpus/lv_lvtb-ud-train.spacy\")\n",
    "cfg_text = cfg_text.replace(\"dev = null\", \"dev = ./corpus/lv_lvtb-ud-dev.spacy\")\n",
    "\n",
    "# 修改 lemmatizer 为 trainable，并删除旧的 model = null 配置（如果有的话）\n",
    "import re\n",
    "\n",
    "# 删除旧的 model = null 行\n",
    "cfg_text = re.sub(r'model\\s*=\\s*null', '', cfg_text)\n",
    "\n",
    "# 修改 mode 为 trainable\n",
    "cfg_text = re.sub(r'mode\\s*=\\s*[\"\\']lookup[\"\\']', 'mode = \"trainable\"', cfg_text)\n",
    "\n",
    "# 确保 lemmatizer 的 model 下有 tok2vec 配置\n",
    "lemmatizer_model_text = \"\"\"\n",
    "[components.lemmatizer.model]\n",
    "@architectures = \"spacy.Tagger.v1\"\n",
    "nO = null\n",
    "\n",
    "[components.lemmatizer.model.tok2vec]\n",
    "@architectures = \"spacy.Tok2VecListener.v1\"\n",
    "upstream = \"*\"\n",
    "width = ${components.tok2vec.model.encode.width}\n",
    "\"\"\"\n",
    "\n",
    "# 删除已有 lemmatizer.model 配置（防止重复）\n",
    "cfg_text = re.sub(r'\\[components\\.lemmatizer\\.model\\][\\s\\S]*?(?=\\[components\\.)', '', cfg_text, flags=re.MULTILINE)\n",
    "\n",
    "# 添加完整的 lemmatizer model 配置到文件末尾\n",
    "cfg_text += lemmatizer_model_text\n",
    "\n",
    "# 写回 config.cfg\n",
    "cfg_path.write_text(cfg_text, encoding=\"utf-8\")\n",
    "\n",
    "print(\"✅ 已经修改 config.cfg 支持 trainable lemmatizer\")\n"
   ]
  },
  {
   "cell_type": "code",
   "execution_count": 7,
   "id": "645e8e0a",
   "metadata": {},
   "outputs": [
    {
     "name": "stdout",
     "output_type": "stream",
     "text": [
      "\u001b[38;5;4mℹ Saving to output directory: models\u001b[0m\n",
      "\u001b[38;5;4mℹ Using GPU: 0\u001b[0m\n",
      "\u001b[1m\n",
      "=========================== Initializing pipeline ===========================\u001b[0m\n",
      "Traceback (most recent call last):\n",
      "  File \"<frozen runpy>\", line 198, in _run_module_as_main\n",
      "  File \"<frozen runpy>\", line 88, in _run_code\n",
      "  File \"/home/jesse/Projects/myenvs/spacy_lv/lib/python3.12/site-packages/spacy/__main__.py\", line 4, in <module>\n",
      "    setup_cli()\n",
      "  File \"/home/jesse/Projects/myenvs/spacy_lv/lib/python3.12/site-packages/spacy/cli/_util.py\", line 87, in setup_cli\n",
      "    command(prog_name=COMMAND)\n",
      "  File \"/home/jesse/Projects/myenvs/spacy_lv/lib/python3.12/site-packages/click/core.py\", line 1442, in __call__\n",
      "    return self.main(*args, **kwargs)\n",
      "           ^^^^^^^^^^^^^^^^^^^^^^^^^^\n",
      "  File \"/home/jesse/Projects/myenvs/spacy_lv/lib/python3.12/site-packages/typer/core.py\", line 757, in main\n",
      "    return _main(\n",
      "           ^^^^^^\n",
      "  File \"/home/jesse/Projects/myenvs/spacy_lv/lib/python3.12/site-packages/typer/core.py\", line 195, in _main\n",
      "    rv = self.invoke(ctx)\n",
      "         ^^^^^^^^^^^^^^^^\n",
      "  File \"/home/jesse/Projects/myenvs/spacy_lv/lib/python3.12/site-packages/click/core.py\", line 1830, in invoke\n",
      "    return _process_result(sub_ctx.command.invoke(sub_ctx))\n",
      "                           ^^^^^^^^^^^^^^^^^^^^^^^^^^^^^^^\n",
      "  File \"/home/jesse/Projects/myenvs/spacy_lv/lib/python3.12/site-packages/click/core.py\", line 1226, in invoke\n",
      "    return ctx.invoke(self.callback, **ctx.params)\n",
      "           ^^^^^^^^^^^^^^^^^^^^^^^^^^^^^^^^^^^^^^^\n",
      "  File \"/home/jesse/Projects/myenvs/spacy_lv/lib/python3.12/site-packages/click/core.py\", line 794, in invoke\n",
      "    return callback(*args, **kwargs)\n",
      "           ^^^^^^^^^^^^^^^^^^^^^^^^^\n",
      "  File \"/home/jesse/Projects/myenvs/spacy_lv/lib/python3.12/site-packages/typer/main.py\", line 699, in wrapper\n",
      "    return callback(**use_params)\n",
      "           ^^^^^^^^^^^^^^^^^^^^^^\n",
      "  File \"/home/jesse/Projects/myenvs/spacy_lv/lib/python3.12/site-packages/spacy/cli/train.py\", line 54, in train_cli\n",
      "    train(config_path, output_path, use_gpu=use_gpu, overrides=overrides)\n",
      "  File \"/home/jesse/Projects/myenvs/spacy_lv/lib/python3.12/site-packages/spacy/cli/train.py\", line 81, in train\n",
      "    nlp = init_nlp(config, use_gpu=use_gpu)\n",
      "          ^^^^^^^^^^^^^^^^^^^^^^^^^^^^^^^^^\n",
      "  File \"/home/jesse/Projects/myenvs/spacy_lv/lib/python3.12/site-packages/spacy/training/initialize.py\", line 50, in init_nlp\n",
      "    nlp = load_model_from_config(raw_config, auto_fill=True)\n",
      "          ^^^^^^^^^^^^^^^^^^^^^^^^^^^^^^^^^^^^^^^^^^^^^^^^^^\n",
      "  File \"/home/jesse/Projects/myenvs/spacy_lv/lib/python3.12/site-packages/spacy/util.py\", line 599, in load_model_from_config\n",
      "    nlp = lang_cls.from_config(\n",
      "          ^^^^^^^^^^^^^^^^^^^^^\n",
      "  File \"/home/jesse/Projects/myenvs/spacy_lv/lib/python3.12/site-packages/spacy/language.py\", line 1893, in from_config\n",
      "    nlp.add_pipe(\n",
      "  File \"/home/jesse/Projects/myenvs/spacy_lv/lib/python3.12/site-packages/spacy/language.py\", line 825, in add_pipe\n",
      "    pipe_component = self.create_pipe(\n",
      "                     ^^^^^^^^^^^^^^^^^\n",
      "  File \"/home/jesse/Projects/myenvs/spacy_lv/lib/python3.12/site-packages/spacy/language.py\", line 713, in create_pipe\n",
      "    resolved = registry.resolve(cfg, validate=validate)\n",
      "               ^^^^^^^^^^^^^^^^^^^^^^^^^^^^^^^^^^^^^^^^\n",
      "  File \"/home/jesse/Projects/myenvs/spacy_lv/lib/python3.12/site-packages/confection/__init__.py\", line 760, in resolve\n",
      "    resolved, _ = cls._make(\n",
      "                  ^^^^^^^^^^\n",
      "  File \"/home/jesse/Projects/myenvs/spacy_lv/lib/python3.12/site-packages/confection/__init__.py\", line 809, in _make\n",
      "    filled, _, resolved = cls._fill(\n",
      "                          ^^^^^^^^^^\n",
      "  File \"/home/jesse/Projects/myenvs/spacy_lv/lib/python3.12/site-packages/confection/__init__.py\", line 881, in _fill\n",
      "    getter_result = getter(*args, **kwargs)\n",
      "                    ^^^^^^^^^^^^^^^^^^^^^^^\n",
      "  File \"/home/jesse/Projects/myenvs/spacy_lv/lib/python3.12/site-packages/spacy/pipeline/factories.py\", line 568, in make_lemmatizer\n",
      "    return Lemmatizer(\n",
      "           ^^^^^^^^^^^\n",
      "  File \"/home/jesse/Projects/myenvs/spacy_lv/lib/python3.12/site-packages/spacy/pipeline/lemmatizer.py\", line 89, in __init__\n",
      "    raise ValueError(Errors.E1003.format(mode=mode))\n",
      "ValueError: [E1003] Unsupported lemmatizer mode 'trainable'.\n"
     ]
    }
   ],
   "source": [
    "# Cell 6: 使用 GPU 训练\n",
    "!python -m spacy train config.cfg --output ./models --paths.train ./corpus/lv_lvtb-ud-train.spacy --paths.dev ./corpus/lv_lvtb-ud-dev.spacy --gpu-id 0\n"
   ]
  },
  {
   "cell_type": "code",
   "execution_count": 8,
   "id": "6bd858d5",
   "metadata": {},
   "outputs": [
    {
     "name": "stdout",
     "output_type": "stream",
     "text": [
      "\u001b[38;5;4mℹ Using CPU\u001b[0m\n",
      "\u001b[38;5;4mℹ To switch to GPU 0, use the option: --gpu-id 0\u001b[0m\n",
      "Traceback (most recent call last):\n",
      "  File \"<frozen runpy>\", line 198, in _run_module_as_main\n",
      "  File \"<frozen runpy>\", line 88, in _run_code\n",
      "  File \"/home/jesse/Projects/myenvs/spacy_lv/lib/python3.12/site-packages/spacy/__main__.py\", line 4, in <module>\n",
      "    setup_cli()\n",
      "  File \"/home/jesse/Projects/myenvs/spacy_lv/lib/python3.12/site-packages/spacy/cli/_util.py\", line 87, in setup_cli\n",
      "    command(prog_name=COMMAND)\n",
      "  File \"/home/jesse/Projects/myenvs/spacy_lv/lib/python3.12/site-packages/click/core.py\", line 1442, in __call__\n",
      "    return self.main(*args, **kwargs)\n",
      "           ^^^^^^^^^^^^^^^^^^^^^^^^^^\n",
      "  File \"/home/jesse/Projects/myenvs/spacy_lv/lib/python3.12/site-packages/typer/core.py\", line 757, in main\n",
      "    return _main(\n",
      "           ^^^^^^\n",
      "  File \"/home/jesse/Projects/myenvs/spacy_lv/lib/python3.12/site-packages/typer/core.py\", line 195, in _main\n",
      "    rv = self.invoke(ctx)\n",
      "         ^^^^^^^^^^^^^^^^\n",
      "  File \"/home/jesse/Projects/myenvs/spacy_lv/lib/python3.12/site-packages/click/core.py\", line 1830, in invoke\n",
      "    return _process_result(sub_ctx.command.invoke(sub_ctx))\n",
      "                           ^^^^^^^^^^^^^^^^^^^^^^^^^^^^^^^\n",
      "  File \"/home/jesse/Projects/myenvs/spacy_lv/lib/python3.12/site-packages/click/core.py\", line 1226, in invoke\n",
      "    return ctx.invoke(self.callback, **ctx.params)\n",
      "           ^^^^^^^^^^^^^^^^^^^^^^^^^^^^^^^^^^^^^^^\n",
      "  File \"/home/jesse/Projects/myenvs/spacy_lv/lib/python3.12/site-packages/click/core.py\", line 794, in invoke\n",
      "    return callback(*args, **kwargs)\n",
      "           ^^^^^^^^^^^^^^^^^^^^^^^^^\n",
      "  File \"/home/jesse/Projects/myenvs/spacy_lv/lib/python3.12/site-packages/typer/main.py\", line 699, in wrapper\n",
      "    return callback(**use_params)\n",
      "           ^^^^^^^^^^^^^^^^^^^^^^\n",
      "  File \"/home/jesse/Projects/myenvs/spacy_lv/lib/python3.12/site-packages/spacy/cli/evaluate.py\", line 47, in evaluate_cli\n",
      "    evaluate(\n",
      "  File \"/home/jesse/Projects/myenvs/spacy_lv/lib/python3.12/site-packages/spacy/cli/evaluate.py\", line 84, in evaluate\n",
      "    nlp = util.load_model(model)\n",
      "          ^^^^^^^^^^^^^^^^^^^^^^\n",
      "  File \"/home/jesse/Projects/myenvs/spacy_lv/lib/python3.12/site-packages/spacy/util.py\", line 484, in load_model\n",
      "    raise IOError(Errors.E050.format(name=name))\n",
      "OSError: [E050] Can't find model './models/model-best'. It doesn't seem to be a Python package or a valid path to a data directory.\n"
     ]
    }
   ],
   "source": [
    "# Cell 7: \n",
    "!python -m spacy evaluate ./models/model-best ./corpus/lv_lvtb-ud-test.spacy\n"
   ]
  }
 ],
 "metadata": {
  "kernelspec": {
   "display_name": "spacy_lv",
   "language": "python",
   "name": "python3"
  },
  "language_info": {
   "codemirror_mode": {
    "name": "ipython",
    "version": 3
   },
   "file_extension": ".py",
   "mimetype": "text/x-python",
   "name": "python",
   "nbconvert_exporter": "python",
   "pygments_lexer": "ipython3",
   "version": "3.12.3"
  }
 },
 "nbformat": 4,
 "nbformat_minor": 5
}
