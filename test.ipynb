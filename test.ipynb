{
 "cells": [
  {
   "cell_type": "code",
   "execution_count": 1,
   "id": "0abc3e34",
   "metadata": {},
   "outputs": [
    {
     "data": {
      "text/plain": [
       "{'spacy_version': '3.8.7',\n",
       " 'location': 'c:\\\\Users\\\\jesse\\\\Projects\\\\MyEnvs\\\\spacy_lv\\\\Lib\\\\site-packages\\\\spacy',\n",
       " 'platform': 'Windows-11-10.0.26100-SP0',\n",
       " 'python_version': '3.13.5',\n",
       " 'pipelines': {}}"
      ]
     },
     "execution_count": 1,
     "metadata": {},
     "output_type": "execute_result"
    }
   ],
   "source": [
    "# Cell 1: \n",
    "import spacy\n",
    "from pathlib import Path\n",
    "import os\n",
    "\n",
    "# 查看 spaCy 版本和可用组件\n",
    "spacy.info()\n"
   ]
  },
  {
   "cell_type": "code",
   "execution_count": 2,
   "id": "b7082887",
   "metadata": {},
   "outputs": [],
   "source": [
    "# Cell 2:\n",
    "# 创建 corpus 和 models 文件夹\n",
    "Path(\"./corpus\").mkdir(parents=True, exist_ok=True)\n",
    "Path(\"./models\").mkdir(parents=True, exist_ok=True)\n"
   ]
  },
  {
   "cell_type": "code",
   "execution_count": 3,
   "id": "8196113b",
   "metadata": {},
   "outputs": [
    {
     "name": "stdout",
     "output_type": "stream",
     "text": [
      "\u001b[38;5;4mℹ Grouping every 1 sentences into a document.\u001b[0m\n",
      "\u001b[38;5;3m⚠ To generate better training data, you may want to group sentences\n",
      "into documents with `-n 10`.\u001b[0m\n",
      "\u001b[38;5;2m✔ Generated output file (15055 documents):\n",
      "corpus\\lv_lvtb-ud-train.spacy\u001b[0m\n",
      "\u001b[38;5;4mℹ Grouping every 1 sentences into a document.\u001b[0m\n",
      "\u001b[38;5;3m⚠ To generate better training data, you may want to group sentences\n",
      "into documents with `-n 10`.\u001b[0m\n",
      "\u001b[38;5;2m✔ Generated output file (2080 documents):\n",
      "corpus\\lv_lvtb-ud-dev.spacy\u001b[0m\n",
      "\u001b[38;5;4mℹ Grouping every 1 sentences into a document.\u001b[0m\n",
      "\u001b[38;5;3m⚠ To generate better training data, you may want to group sentences\n",
      "into documents with `-n 10`.\u001b[0m\n",
      "\u001b[38;5;2m✔ Generated output file (2396 documents):\n",
      "corpus\\lv_lvtb-ud-test.spacy\u001b[0m\n"
     ]
    }
   ],
   "source": [
    "# Cell 3:\n",
    "!python -m spacy convert ud_latvian/lv_lvtb-ud-train.conllu ./corpus\n",
    "!python -m spacy convert ud_latvian/lv_lvtb-ud-dev.conllu ./corpus\n",
    "!python -m spacy convert ud_latvian/lv_lvtb-ud-test.conllu ./corpus\n"
   ]
  },
  {
   "cell_type": "code",
   "execution_count": 4,
   "id": "fb1ac994",
   "metadata": {},
   "outputs": [
    {
     "name": "stdout",
     "output_type": "stream",
     "text": [
      "\u001b[38;5;4mℹ Generated config template specific for your use case\u001b[0m\n",
      "- Language: lv\n",
      "- Pipeline: tagger, morphologizer, parser\n",
      "- Optimize for: efficiency\n",
      "- Hardware: CPU\n",
      "- Transformer: None\n",
      "\u001b[38;5;2m✔ Auto-filled config with all values\u001b[0m\n",
      "\u001b[38;5;2m✔ Saved config\u001b[0m\n",
      "config.cfg\n",
      "You can now add your data and train your pipeline:\n",
      "python -m spacy train config.cfg --paths.train ./train.spacy --paths.dev ./dev.spacy\n"
     ]
    }
   ],
   "source": [
    "# Cell 4: \n",
    "!python -m spacy init config config.cfg --lang lv --pipeline tok2vec,tagger,morphologizer,parser --optimize efficiency\n"
   ]
  },
  {
   "cell_type": "code",
   "execution_count": 5,
   "id": "8d7add50",
   "metadata": {},
   "outputs": [
    {
     "name": "stdout",
     "output_type": "stream",
     "text": [
      "✅ 已经修改 config.cfg 的数据路径\n"
     ]
    }
   ],
   "source": [
    "# Cell 5: \n",
    "cfg_text = Path(\"config.cfg\").read_text(encoding=\"utf-8\")\n",
    "cfg_text = cfg_text.replace(\"train = null\", \"train = ./corpus/lv_lvtb-ud-train.spacy\")\n",
    "cfg_text = cfg_text.replace(\"dev = null\", \"dev = ./corpus/lv_lvtb-ud-dev.spacy\")\n",
    "Path(\"config.cfg\").write_text(cfg_text, encoding=\"utf-8\")\n",
    "\n",
    "print(\"✅ 已经修改 config.cfg 的数据路径\")\n"
   ]
  },
  {
   "cell_type": "code",
   "execution_count": 6,
   "id": "645e8e0a",
   "metadata": {},
   "outputs": [
    {
     "name": "stdout",
     "output_type": "stream",
     "text": [
      "^C\n"
     ]
    },
    {
     "name": "stderr",
     "output_type": "stream",
     "text": [
      "Traceback (most recent call last):\n",
      "  File \u001b[35m\"c:\\Users\\jesse\\Projects\\MyEnvs\\spacy_lv\\Lib\\site-packages\\spacy\\training\\loop.py\"\u001b[0m, line \u001b[35m135\u001b[0m, in \u001b[35mtrain\u001b[0m\n",
      "    raise e\n",
      "  File \u001b[35m\"c:\\Users\\jesse\\Projects\\MyEnvs\\spacy_lv\\Lib\\site-packages\\spacy\\training\\loop.py\"\u001b[0m, line \u001b[35m118\u001b[0m, in \u001b[35mtrain\u001b[0m\n",
      "    for batch, info, is_best_checkpoint in \u001b[1;31mtraining_step_iterator\u001b[0m:\n",
      "                                           \u001b[1;31m^^^^^^^^^^^^^^^^^^^^^^\u001b[0m\n",
      "  File \u001b[35m\"c:\\Users\\jesse\\Projects\\MyEnvs\\spacy_lv\\Lib\\site-packages\\spacy\\training\\loop.py\"\u001b[0m, line \u001b[35m243\u001b[0m, in \u001b[35mtrain_while_improving\u001b[0m\n",
      "    score, other_scores = \u001b[31mevaluate\u001b[0m\u001b[1;31m()\u001b[0m\n",
      "                          \u001b[31m~~~~~~~~\u001b[0m\u001b[1;31m^^\u001b[0m\n",
      "  File \u001b[35m\"c:\\Users\\jesse\\Projects\\MyEnvs\\spacy_lv\\Lib\\site-packages\\spacy\\training\\loop.py\"\u001b[0m, line \u001b[35m298\u001b[0m, in \u001b[35mevaluate\u001b[0m\n",
      "    scores = nlp.evaluate(dev_corpus(nlp))\n",
      "  File \u001b[35m\"c:\\Users\\jesse\\Projects\\MyEnvs\\spacy_lv\\Lib\\site-packages\\spacy\\language.py\"\u001b[0m, line \u001b[35m1439\u001b[0m, in \u001b[35mevaluate\u001b[0m\n",
      "    examples = list(examples)\n",
      "  File \u001b[35m\"c:\\Users\\jesse\\Projects\\MyEnvs\\spacy_lv\\Lib\\site-packages\\spacy\\training\\corpus.py\"\u001b[0m, line \u001b[35m164\u001b[0m, in \u001b[35m__call__\u001b[0m\n",
      "    for real_eg in \u001b[1;31mexamples\u001b[0m:\n",
      "                   \u001b[1;31m^^^^^^^^\u001b[0m\n",
      "  File \u001b[35m\"c:\\Users\\jesse\\Projects\\MyEnvs\\spacy_lv\\Lib\\site-packages\\spacy\\training\\corpus.py\"\u001b[0m, line \u001b[35m186\u001b[0m, in \u001b[35mmake_examples\u001b[0m\n",
      "    for reference in \u001b[1;31mreference_docs\u001b[0m:\n",
      "                     \u001b[1;31m^^^^^^^^^^^^^^\u001b[0m\n",
      "  File \u001b[35m\"c:\\Users\\jesse\\Projects\\MyEnvs\\spacy_lv\\Lib\\site-packages\\spacy\\training\\corpus.py\"\u001b[0m, line \u001b[35m219\u001b[0m, in \u001b[35mread_docbin\u001b[0m\n",
      "    doc_bin = DocBin().from_disk(loc)\n",
      "  File \u001b[35m\"c:\\Users\\jesse\\Projects\\MyEnvs\\spacy_lv\\Lib\\site-packages\\spacy\\tokens\\_serialize.py\"\u001b[0m, line \u001b[35m275\u001b[0m, in \u001b[35mfrom_disk\u001b[0m\n",
      "    with \u001b[31mpath.open\u001b[0m\u001b[1;31m(\"rb\")\u001b[0m as file_:\n",
      "         \u001b[31m~~~~~~~~~\u001b[0m\u001b[1;31m^^^^^^\u001b[0m\n",
      "  File \u001b[35m\"C:\\Users\\jesse\\AppData\\Local\\Programs\\Python\\Python313\\Lib\\pathlib\\_local.py\"\u001b[0m, line \u001b[35m537\u001b[0m, in \u001b[35mopen\u001b[0m\n",
      "    return \u001b[31mio.open\u001b[0m\u001b[1;31m(self, mode, buffering, encoding, errors, newline)\u001b[0m\n",
      "           \u001b[31m~~~~~~~\u001b[0m\u001b[1;31m^^^^^^^^^^^^^^^^^^^^^^^^^^^^^^^^^^^^^^^^^^^^^^^^^^\u001b[0m\n",
      "\u001b[1;35mFileNotFoundError\u001b[0m: \u001b[35m[Errno 2] No such file or directory: 'corpus\\\\lv_lvtb-ud-dev.spacy'\u001b[0m\n",
      "\n",
      "During handling of the above exception, another exception occurred:\n",
      "\n",
      "Traceback (most recent call last):\n",
      "  File \u001b[35m\"<frozen runpy>\"\u001b[0m, line \u001b[35m198\u001b[0m, in \u001b[35m_run_module_as_main\u001b[0m\n",
      "  File \u001b[35m\"<frozen runpy>\"\u001b[0m, line \u001b[35m88\u001b[0m, in \u001b[35m_run_code\u001b[0m\n",
      "  File \u001b[35m\"c:\\Users\\jesse\\Projects\\MyEnvs\\spacy_lv\\Lib\\site-packages\\spacy\\__main__.py\"\u001b[0m, line \u001b[35m4\u001b[0m, in \u001b[35m<module>\u001b[0m\n",
      "    \u001b[31msetup_cli\u001b[0m\u001b[1;31m()\u001b[0m\n",
      "    \u001b[31m~~~~~~~~~\u001b[0m\u001b[1;31m^^\u001b[0m\n",
      "  File \u001b[35m\"c:\\Users\\jesse\\Projects\\MyEnvs\\spacy_lv\\Lib\\site-packages\\spacy\\cli\\_util.py\"\u001b[0m, line \u001b[35m87\u001b[0m, in \u001b[35msetup_cli\u001b[0m\n",
      "    \u001b[31mcommand\u001b[0m\u001b[1;31m(prog_name=COMMAND)\u001b[0m\n",
      "    \u001b[31m~~~~~~~\u001b[0m\u001b[1;31m^^^^^^^^^^^^^^^^^^^\u001b[0m\n",
      "  File \u001b[35m\"c:\\Users\\jesse\\Projects\\MyEnvs\\spacy_lv\\Lib\\site-packages\\click\\core.py\"\u001b[0m, line \u001b[35m1442\u001b[0m, in \u001b[35m__call__\u001b[0m\n",
      "    return \u001b[31mself.main\u001b[0m\u001b[1;31m(*args, **kwargs)\u001b[0m\n",
      "           \u001b[31m~~~~~~~~~\u001b[0m\u001b[1;31m^^^^^^^^^^^^^^^^^\u001b[0m\n",
      "  File \u001b[35m\"c:\\Users\\jesse\\Projects\\MyEnvs\\spacy_lv\\Lib\\site-packages\\typer\\core.py\"\u001b[0m, line \u001b[35m757\u001b[0m, in \u001b[35mmain\u001b[0m\n",
      "    return _main(\n",
      "        self,\n",
      "    ...<6 lines>...\n",
      "        **extra,\n",
      "    )\n",
      "  File \u001b[35m\"c:\\Users\\jesse\\Projects\\MyEnvs\\spacy_lv\\Lib\\site-packages\\typer\\core.py\"\u001b[0m, line \u001b[35m195\u001b[0m, in \u001b[35m_main\u001b[0m\n",
      "    rv = self.invoke(ctx)\n",
      "  File \u001b[35m\"c:\\Users\\jesse\\Projects\\MyEnvs\\spacy_lv\\Lib\\site-packages\\click\\core.py\"\u001b[0m, line \u001b[35m1830\u001b[0m, in \u001b[35minvoke\u001b[0m\n",
      "    return _process_result(\u001b[31msub_ctx.command.invoke\u001b[0m\u001b[1;31m(sub_ctx)\u001b[0m)\n",
      "                           \u001b[31m~~~~~~~~~~~~~~~~~~~~~~\u001b[0m\u001b[1;31m^^^^^^^^^\u001b[0m\n",
      "  File \u001b[35m\"c:\\Users\\jesse\\Projects\\MyEnvs\\spacy_lv\\Lib\\site-packages\\click\\core.py\"\u001b[0m, line \u001b[35m1226\u001b[0m, in \u001b[35minvoke\u001b[0m\n",
      "    return \u001b[31mctx.invoke\u001b[0m\u001b[1;31m(self.callback, **ctx.params)\u001b[0m\n",
      "           \u001b[31m~~~~~~~~~~\u001b[0m\u001b[1;31m^^^^^^^^^^^^^^^^^^^^^^^^^^^^^\u001b[0m\n",
      "  File \u001b[35m\"c:\\Users\\jesse\\Projects\\MyEnvs\\spacy_lv\\Lib\\site-packages\\click\\core.py\"\u001b[0m, line \u001b[35m794\u001b[0m, in \u001b[35minvoke\u001b[0m\n",
      "    return callback(*args, **kwargs)\n",
      "  File \u001b[35m\"c:\\Users\\jesse\\Projects\\MyEnvs\\spacy_lv\\Lib\\site-packages\\typer\\main.py\"\u001b[0m, line \u001b[35m699\u001b[0m, in \u001b[35mwrapper\u001b[0m\n",
      "    return callback(**use_params)\n",
      "  File \u001b[35m\"c:\\Users\\jesse\\Projects\\MyEnvs\\spacy_lv\\Lib\\site-packages\\spacy\\cli\\train.py\"\u001b[0m, line \u001b[35m54\u001b[0m, in \u001b[35mtrain_cli\u001b[0m\n",
      "    \u001b[31mtrain\u001b[0m\u001b[1;31m(config_path, output_path, use_gpu=use_gpu, overrides=overrides)\u001b[0m\n",
      "    \u001b[31m~~~~~\u001b[0m\u001b[1;31m^^^^^^^^^^^^^^^^^^^^^^^^^^^^^^^^^^^^^^^^^^^^^^^^^^^^^^^^^^^^^^^^\u001b[0m\n",
      "  File \u001b[35m\"c:\\Users\\jesse\\Projects\\MyEnvs\\spacy_lv\\Lib\\site-packages\\spacy\\cli\\train.py\"\u001b[0m, line \u001b[35m84\u001b[0m, in \u001b[35mtrain\u001b[0m\n",
      "    \u001b[31mtrain_nlp\u001b[0m\u001b[1;31m(nlp, output_path, use_gpu=use_gpu, stdout=sys.stdout, stderr=sys.stderr)\u001b[0m\n",
      "    \u001b[31m~~~~~~~~~\u001b[0m\u001b[1;31m^^^^^^^^^^^^^^^^^^^^^^^^^^^^^^^^^^^^^^^^^^^^^^^^^^^^^^^^^^^^^^^^^^^^^^^^^\u001b[0m\n",
      "  File \u001b[35m\"c:\\Users\\jesse\\Projects\\MyEnvs\\spacy_lv\\Lib\\site-packages\\spacy\\training\\loop.py\"\u001b[0m, line \u001b[35m139\u001b[0m, in \u001b[35mtrain\u001b[0m\n",
      "    \u001b[31msave_checkpoint\u001b[0m\u001b[1;31m(False)\u001b[0m\n",
      "    \u001b[31m~~~~~~~~~~~~~~~\u001b[0m\u001b[1;31m^^^^^^^\u001b[0m\n",
      "  File \u001b[35m\"c:\\Users\\jesse\\Projects\\MyEnvs\\spacy_lv\\Lib\\site-packages\\spacy\\training\\loop.py\"\u001b[0m, line \u001b[35m79\u001b[0m, in \u001b[35msave_checkpoint\u001b[0m\n",
      "    \u001b[31mbefore_to_disk(nlp).to_disk\u001b[0m\u001b[1;31m(output_path / DIR_MODEL_LAST)\u001b[0m\n",
      "    \u001b[31m~~~~~~~~~~~~~~~~~~~~~~~~~~~\u001b[0m\u001b[1;31m^^^^^^^^^^^^^^^^^^^^^^^^^^^^^^\u001b[0m\n",
      "  File \u001b[35m\"c:\\Users\\jesse\\Projects\\MyEnvs\\spacy_lv\\Lib\\site-packages\\spacy\\language.py\"\u001b[0m, line \u001b[35m2158\u001b[0m, in \u001b[35mto_disk\u001b[0m\n",
      "    \u001b[31mutil.to_disk\u001b[0m\u001b[1;31m(path, serializers, exclude)\u001b[0m\n",
      "    \u001b[31m~~~~~~~~~~~~\u001b[0m\u001b[1;31m^^^^^^^^^^^^^^^^^^^^^^^^^^^^\u001b[0m\n",
      "  File \u001b[35m\"c:\\Users\\jesse\\Projects\\MyEnvs\\spacy_lv\\Lib\\site-packages\\spacy\\util.py\"\u001b[0m, line \u001b[35m1384\u001b[0m, in \u001b[35mto_disk\u001b[0m\n",
      "    \u001b[31mpath.mkdir\u001b[0m\u001b[1;31m()\u001b[0m\n",
      "    \u001b[31m~~~~~~~~~~\u001b[0m\u001b[1;31m^^\u001b[0m\n",
      "  File \u001b[35m\"C:\\Users\\jesse\\AppData\\Local\\Programs\\Python\\Python313\\Lib\\pathlib\\_local.py\"\u001b[0m, line \u001b[35m722\u001b[0m, in \u001b[35mmkdir\u001b[0m\n",
      "    \u001b[31mos.mkdir\u001b[0m\u001b[1;31m(self, mode)\u001b[0m\n",
      "    \u001b[31m~~~~~~~~\u001b[0m\u001b[1;31m^^^^^^^^^^^^\u001b[0m\n",
      "\u001b[1;35mFileNotFoundError\u001b[0m: \u001b[35m[WinError 3] The system cannot find the path specified: 'models\\\\model-last'\u001b[0m\n"
     ]
    },
    {
     "name": "stdout",
     "output_type": "stream",
     "text": [
      "\u001b[38;5;4mℹ Saving to output directory: models\u001b[0m\n",
      "\u001b[38;5;4mℹ Using CPU\u001b[0m\n",
      "\u001b[1m\n",
      "=========================== Initializing pipeline ===========================\u001b[0m\n",
      "\u001b[38;5;2m✔ Initialized pipeline\u001b[0m\n",
      "\u001b[1m\n",
      "============================= Training pipeline =============================\u001b[0m\n",
      "\u001b[38;5;4mℹ Pipeline: ['tok2vec', 'tagger', 'morphologizer', 'parser']\u001b[0m\n",
      "\u001b[38;5;4mℹ Initial learn rate: 0.001\u001b[0m\n",
      "E    #       LOSS TOK2VEC  LOSS TAGGER  LOSS MORPH...  LOSS PARSER  TAG_ACC  POS_ACC  MORPH_ACC  DEP_UAS  DEP_LAS  SENTS_F  SCORE \n",
      "---  ------  ------------  -----------  -------------  -----------  -------  -------  ---------  -------  -------  -------  ------\n",
      "  0       0          0.00        87.49          87.46       278.06    17.10    28.78      18.62    10.69     6.05     0.04    0.17\n",
      "  0     200       2558.21     13491.30       12747.90     24731.54    45.35    73.80      51.34    51.52    31.56    79.93    0.50\n",
      "  0     400       5376.68     12879.24       11699.26     23175.04    61.01    83.65      68.41    59.54    44.16    77.43    0.64\n",
      "  0     600       7647.39     12763.41       10994.10     25785.70    68.94    87.26      76.50    62.99    50.10    55.28    0.70\n",
      "  0     800       9383.35     13249.94       10886.29     28000.02    73.26    89.64      80.36    66.71    55.78    90.75    0.74\n",
      "  0    1000      11542.08     14537.25       11770.40     31359.49    76.53    91.28      82.97    69.67    59.84    91.81    0.77\n",
      "  0    1200      14416.97     16082.99       12915.88     36307.61    78.90    92.02      84.87    72.43    63.63    96.23    0.79\n",
      "  1    1400      17351.83     17452.19       13831.26     40419.84    80.36    92.95      86.19    73.77    65.82    98.35    0.81\n",
      "\u001b[38;5;3m⚠ Aborting and saving the final best model. Encountered exception:\n",
      "FileNotFoundError(2, 'No such file or directory')\u001b[0m\n"
     ]
    }
   ],
   "source": [
    "# Cell 6: \n",
    "!python -m spacy train config.cfg --output ./models --paths.train ./corpus/lv_lvtb-ud-train.spacy --paths.dev ./corpus/lv_lvtb-ud-dev.spacy\n"
   ]
  },
  {
   "cell_type": "code",
   "execution_count": null,
   "id": "6bd858d5",
   "metadata": {},
   "outputs": [],
   "source": [
    "# Cell 7: \n",
    "!python -m spacy evaluate ./models/model-best ./corpus/lv_lvtb-ud-test.spacy\n"
   ]
  }
 ],
 "metadata": {
  "kernelspec": {
   "display_name": "spacy_lv",
   "language": "python",
   "name": "python3"
  },
  "language_info": {
   "codemirror_mode": {
    "name": "ipython",
    "version": 3
   },
   "file_extension": ".py",
   "mimetype": "text/x-python",
   "name": "python",
   "nbconvert_exporter": "python",
   "pygments_lexer": "ipython3",
   "version": "3.13.5"
  }
 },
 "nbformat": 4,
 "nbformat_minor": 5
}
