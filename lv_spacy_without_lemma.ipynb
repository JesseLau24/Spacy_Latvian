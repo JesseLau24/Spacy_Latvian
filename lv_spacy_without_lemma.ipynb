{
 "cells": [
  {
   "cell_type": "code",
   "execution_count": 1,
   "id": "9fd365f2",
   "metadata": {},
   "outputs": [
    {
     "name": "stdout",
     "output_type": "stream",
     "text": [
      "OS                           : Linux-6.14.0-29-generic-x86_64-with-glibc2.39\n",
      "Python Version               : 3.12.3\n",
      "CuPy Version                 : 12.3.0\n",
      "CuPy Platform                : NVIDIA CUDA\n",
      "NumPy Version                : 1.26.4\n",
      "SciPy Version                : None\n",
      "Cython Build Version         : 0.29.36\n",
      "Cython Runtime Version       : None\n",
      "CUDA Root                    : /usr/local/cuda\n",
      "nvcc PATH                    : /usr/local/cuda/bin/nvcc\n",
      "CUDA Build Version           : 12020\n",
      "CUDA Driver Version          : 12090\n",
      "CUDA Runtime Version         : 12090\n",
      "cuBLAS Version               : (available)\n",
      "cuFFT Version                : 11401\n",
      "cuRAND Version               : 10310\n",
      "cuSOLVER Version             : (11, 7, 5)\n",
      "cuSPARSE Version             : (available)\n",
      "NVRTC Version                : (12, 9)\n",
      "Thrust Version               : 200101\n",
      "CUB Build Version            : 200101\n",
      "Jitify Build Version         : <unknown>\n",
      "cuDNN Build Version          : (not loaded; try `import cupy.cuda.cudnn` first)\n",
      "cuDNN Version                : (not loaded; try `import cupy.cuda.cudnn` first)\n",
      "NCCL Build Version           : None\n",
      "NCCL Runtime Version         : None\n",
      "cuTENSOR Version             : None\n",
      "cuSPARSELt Build Version     : None\n",
      "Device 0 Name                : NVIDIA GeForce RTX 5080\n",
      "Device 0 Compute Capability  : 120\n",
      "Device 0 PCI Bus ID          : 0000:01:00.0\n",
      "None\n"
     ]
    }
   ],
   "source": [
    "import cupy\n",
    "\n",
    "print(cupy.show_config())\n"
   ]
  },
  {
   "cell_type": "code",
   "execution_count": 2,
   "id": "0abc3e34",
   "metadata": {},
   "outputs": [
    {
     "data": {
      "text/plain": [
       "{'spacy_version': '3.8.7',\n",
       " 'location': '/home/jesse/Projects/myenvs/spacy_lv/lib/python3.12/site-packages/spacy',\n",
       " 'platform': 'Linux-6.14.0-29-generic-x86_64-with-glibc2.39',\n",
       " 'python_version': '3.12.3',\n",
       " 'pipelines': {'lv_xlmr_base_without_lemma': '1.0.0',\n",
       "  'lv_spacy_without_lemma': '1.0.0',\n",
       "  'lv_bert_without_lemma': '1.0.0'}}"
      ]
     },
     "execution_count": 2,
     "metadata": {},
     "output_type": "execute_result"
    }
   ],
   "source": [
    "# ========================\n",
    "# Cell 1: 基础检查\n",
    "# ========================\n",
    "import spacy\n",
    "from pathlib import Path\n",
    "import os\n",
    "\n",
    "# 查看 spaCy 版本和可用组件\n",
    "spacy.info()\n"
   ]
  },
  {
   "cell_type": "code",
   "execution_count": 3,
   "id": "b7082887",
   "metadata": {},
   "outputs": [
    {
     "name": "stdout",
     "output_type": "stream",
     "text": [
      "✅ 基础目录结构已创建完成\n"
     ]
    }
   ],
   "source": [
    "# ========================\n",
    "# Cell 2: 创建 corpus 和 models 文件夹\n",
    "# ========================\n",
    "Path(\"./corpus\").mkdir(parents=True, exist_ok=True)\n",
    "\n",
    "# 原始训练结果和子目录\n",
    "Path(\"./models\").mkdir(parents=True, exist_ok=True)\n",
    "Path(\"./models/spacy_lv\").mkdir(parents=True, exist_ok=True)\n",
    "Path(\"./models/bert_lv\").mkdir(parents=True, exist_ok=True)\n",
    "\n",
    "# 打包后的模型\n",
    "Path(\"./packages\").mkdir(parents=True, exist_ok=True)\n",
    "\n",
    "# config文件路径\n",
    "Path(\"./config\").mkdir(parents=True, exist_ok=True)\n",
    "\n",
    "print(\"✅ 基础目录结构已创建完成\")\n"
   ]
  },
  {
   "cell_type": "code",
   "execution_count": 4,
   "id": "8196113b",
   "metadata": {},
   "outputs": [
    {
     "name": "stdout",
     "output_type": "stream",
     "text": [
      "\u001b[38;5;4mℹ Grouping every 10 sentences into a document.\u001b[0m\n",
      "\u001b[38;5;2m✔ Generated output file (1506 documents):\n",
      "corpus/lv_lvtb-ud-train.spacy\u001b[0m\n",
      "\u001b[38;5;4mℹ Grouping every 10 sentences into a document.\u001b[0m\n",
      "\u001b[38;5;2m✔ Generated output file (208 documents):\n",
      "corpus/lv_lvtb-ud-dev.spacy\u001b[0m\n",
      "\u001b[38;5;4mℹ Grouping every 10 sentences into a document.\u001b[0m\n",
      "\u001b[38;5;2m✔ Generated output file (240 documents):\n",
      "corpus/lv_lvtb-ud-test.spacy\u001b[0m\n"
     ]
    }
   ],
   "source": [
    "# ========================\n",
    "# Cell 3: 转换 conllu 到 spaCy 格式\n",
    "# ========================\n",
    "!python -m spacy convert ud_latvian/lv_lvtb-ud-train.conllu ./corpus -n 10\n",
    "!python -m spacy convert ud_latvian/lv_lvtb-ud-dev.conllu ./corpus -n 10\n",
    "!python -m spacy convert ud_latvian/lv_lvtb-ud-test.conllu ./corpus -n 10\n"
   ]
  },
  {
   "cell_type": "code",
   "execution_count": 5,
   "id": "fb1ac994",
   "metadata": {},
   "outputs": [
    {
     "name": "stdout",
     "output_type": "stream",
     "text": [
      "\u001b[38;5;4mℹ Generated config template specific for your use case\u001b[0m\n",
      "- Language: lv\n",
      "- Pipeline: tagger, morphologizer, parser, senter\n",
      "- Optimize for: efficiency\n",
      "- Hardware: CPU\n",
      "- Transformer: None\n",
      "\u001b[38;5;2m✔ Auto-filled config with all values\u001b[0m\n",
      "\u001b[38;5;2m✔ Saved config\u001b[0m\n",
      "config/config_spacy.cfg\n",
      "You can now add your data and train your pipeline:\n",
      "python -m spacy train config_spacy.cfg --paths.train ./train.spacy --paths.dev ./dev.spacy\n"
     ]
    }
   ],
   "source": [
    "# ========================\n",
    "# Cell 4: 初始化 config\n",
    "# ========================\n",
    "!python -m spacy init config ./config/config_spacy.cfg --lang lv --pipeline tok2vec,tagger,morphologizer,parser,senter --optimize efficiency\n"
   ]
  },
  {
   "cell_type": "code",
   "execution_count": 6,
   "id": "8d7add50",
   "metadata": {},
   "outputs": [
    {
     "name": "stdout",
     "output_type": "stream",
     "text": [
      "✅ 已经修改 config_spacy.cfg 的数据路径\n"
     ]
    }
   ],
   "source": [
    "# ========================\n",
    "# Cell 5: 修改 config 数据路径\n",
    "# ========================\n",
    "cfg_text = Path(\"./config/config_spacy.cfg\").read_text(encoding=\"utf-8\")\n",
    "cfg_text = cfg_text.replace(\"train = null\", \"train = ./corpus/lv_lvtb-ud-train.spacy\")\n",
    "cfg_text = cfg_text.replace(\"dev = null\", \"dev = ./corpus/lv_lvtb-ud-dev.spacy\")\n",
    "Path(\"./config/config_spacy.cfg\").write_text(cfg_text, encoding=\"utf-8\")\n",
    "print(\"✅ 已经修改 config_spacy.cfg 的数据路径\")\n"
   ]
  },
  {
   "cell_type": "code",
   "execution_count": 8,
   "id": "645e8e0a",
   "metadata": {},
   "outputs": [
    {
     "name": "stdout",
     "output_type": "stream",
     "text": [
      "\u001b[38;5;4mℹ Saving to output directory: models/spacy_lv\u001b[0m\n",
      "\u001b[38;5;4mℹ Using GPU: 0\u001b[0m\n",
      "\u001b[1m\n",
      "=========================== Initializing pipeline ===========================\u001b[0m\n",
      "\u001b[38;5;2m✔ Initialized pipeline\u001b[0m\n",
      "\u001b[1m\n",
      "============================= Training pipeline =============================\u001b[0m\n",
      "\u001b[38;5;4mℹ Pipeline: ['tok2vec', 'tagger', 'morphologizer', 'parser',\n",
      "'senter']\u001b[0m\n",
      "\u001b[38;5;4mℹ Initial learn rate: 0.001\u001b[0m\n",
      "E    #       LOSS TOK2VEC  LOSS TAGGER  LOSS MORPH...  LOSS PARSER  LOSS SENTER  TAG_ACC  POS_ACC  MORPH_ACC  DEP_UAS  DEP_LAS  SENTS_P  SENTS_R  SENTS_F  SCORE \n",
      "---  ------  ------------  -----------  -------------  -----------  -----------  -------  -------  ---------  -------  -------  -------  -------  -------  ------\n",
      "  0       0          0.00       202.94         202.86       447.71       112.50    18.53    31.64      21.10     8.67     6.82     0.01     0.19     0.02    0.13\n",
      "  0     200       3295.73     23142.84       21814.87     33271.65      2844.51    51.99    78.04      58.33    49.78    32.90    23.18    41.30    29.70    0.48\n",
      "  0     400       6415.91     16231.23       14476.58     29011.24       258.41    64.95    85.78      73.28    58.45    44.04    20.59    36.30    26.28    0.55\n",
      "  0     600       7296.70     13334.96       11262.44     26355.45       298.46    71.71    88.82      78.88    63.13    50.96    70.27    80.00    74.82    0.72\n",
      "  0     800       7782.63     11863.66        9717.19     25152.36       279.46    73.68    90.37      81.56    66.41    55.02    77.09    83.94    80.37    0.75\n",
      "  0    1000       7772.54     10635.58        8566.01     22656.44       309.01    76.41    91.00      83.01    68.28    58.19    85.63    87.69    86.65    0.78\n",
      "  0    1200       8196.93      9849.06        7869.12     22013.44       306.97    77.66    91.51      84.07    69.94    59.69    83.51    88.37    85.87    0.79\n",
      "  0    1400       8512.74      9560.09        7737.85     21576.83       338.39    78.79    91.73      84.77    69.93    61.25    85.02    87.60    86.29    0.80\n",
      "  1    1600       9250.07      9243.41        7414.64     21981.16       354.31    80.15    92.47      85.76    71.45    62.65    87.87    88.08    87.97    0.81\n",
      "  1    1800      10732.41      9403.15        7334.40     23362.86       303.33    80.83    92.69      86.46    72.79    64.43    85.76    89.18    87.44    0.82\n",
      "  1    2000      13515.46     11277.61        8870.71     28174.44       347.63    81.91    93.26      87.20    74.28    66.15    90.69    90.34    90.51    0.83\n",
      "  1    2200      17299.60     14236.50       11111.98     35080.54       442.49    82.76    93.55      87.75    75.50    68.05    89.52    90.34    89.93    0.84\n",
      "  2    2400      21934.47     17023.75       13330.22     42906.89       690.61    83.42    93.79      88.24    76.23    69.35    89.78    91.25    90.51    0.85\n",
      "  2    2600      27226.05     18217.10       13944.53     49054.84       649.31    84.00    94.00      88.74    76.54    70.12    91.07    92.16    91.61    0.85\n",
      "  2    2800      35567.58     22813.28       17393.22     59978.55       867.31    84.78    94.43      89.27    78.20    71.74    93.40    91.78    92.58    0.86\n",
      "  3    3000      42081.40     24556.21       18360.31     66063.90      1063.29    85.31    94.71      89.53    78.47    72.33    93.43    92.93    93.18    0.87\n",
      "  4    3200      46936.73     24460.83       18072.98     69192.64       872.81    85.62    94.70      89.79    78.92    73.12    91.18    91.97    91.57    0.86\n",
      "  5    3400      49002.59     23842.32       17634.40     68028.24      1144.92    86.07    94.90      90.12    79.46    73.59    93.44    93.12    93.28    0.87\n",
      "  5    3600      48135.58     21141.25       15337.55     62449.41       913.33    86.31    94.91      90.08    80.01    74.05    93.75    93.08    93.41    0.87\n",
      "  6    3800      49539.30     20706.78       15149.43     61055.11       869.50    86.40    94.93      90.33    79.68    74.15    93.63    92.55    93.09    0.87\n",
      "  7    4000      50263.54     19777.82       14298.47     58819.89       846.48    86.46    95.00      90.50    79.70    74.10    93.03    92.98    93.00    0.87\n",
      "  7    4200      52510.60     18785.04       13559.79     57518.16       844.49    86.63    95.04      90.53    80.58    75.04    93.11    92.31    92.71    0.88\n",
      "  8    4400      53331.08     17975.45       12961.08     55924.80       783.46    86.58    95.02      90.45    80.44    74.99    94.49    93.12    93.80    0.88\n",
      "  9    4600      54664.07     17600.99       12624.37     54659.45       805.78    86.62    95.14      90.51    80.49    75.16    94.74    92.64    93.68    0.88\n",
      "  9    4800      56113.24     17104.75       12208.42     52709.55       724.10    86.95    95.12      90.57    80.82    75.29    93.27    92.55    92.91    0.88\n",
      " 10    5000      55785.76     15902.91       11439.79     50927.29       782.85    87.02    95.16      90.67    80.71    75.11    93.48    92.36    92.91    0.88\n",
      " 11    5200      57062.26     15826.68       11256.21     50240.17       615.09    87.02    95.12      90.77    80.23    74.69    94.46    94.18    94.32    0.88\n",
      " 12    5400      59354.90     15789.87       11316.27     49586.97       680.64    86.94    95.06      90.64    80.76    75.40    94.25    93.03    93.64    0.88\n",
      " 12    5600      59178.06     14723.38       10427.43     47182.47       628.77    87.08    95.19      90.84    80.95    75.43    92.81    93.12    92.97    0.88\n",
      " 13    5800      59925.74     14182.78       10045.36     46484.89       713.15    87.05    95.18      90.85    80.89    75.44    94.86    94.09    94.47    0.88\n",
      " 14    6000      63405.10     14246.31       10126.78     46147.93       541.62    87.12    95.23      90.86    80.98    75.57    94.48    93.80    94.14    0.88\n",
      " 14    6200      62727.67     13702.29        9718.40     44728.47       588.43    87.15    95.25      90.87    81.02    75.69    94.60    93.41    94.00    0.88\n",
      " 15    6400      63214.06     13256.58        9391.52     43122.28       564.87    87.13    95.18      90.80    80.93    75.44    93.55    93.41    93.48    0.88\n",
      " 16    6600      64970.20     13060.08        9075.96     43106.91       508.41    87.28    95.15      90.78    80.83    75.40    93.95    94.04    93.99    0.88\n",
      " 16    6800      68390.02     13016.15        9133.14     42603.95       611.95    87.29    95.26      90.94    80.87    75.51    94.02    93.65    93.83    0.88\n",
      " 17    7000      67472.07     12278.08        8595.18     41012.97       506.54    87.25    95.19      90.97    80.70    75.48    93.60    93.46    93.53    0.88\n",
      " 18    7200      70020.57     12379.09        8709.71     41218.54       509.89    87.14    95.26      90.95    81.00    75.63    94.51    94.38    94.44    0.88\n",
      " 18    7400      71396.86     12492.62        8805.21     40570.68       580.13    87.34    95.27      90.91    80.91    75.59    94.62    92.98    93.79    0.88\n",
      " 19    7600      70726.86     11812.26        8147.89     38375.82       500.19    87.17    95.18      90.93    81.09    75.92    95.00    94.09    94.54    0.88\n",
      " 20    7800      74312.24     11873.45        8390.70     39503.93       516.22    87.41    95.25      90.87    81.15    76.00    93.45    93.27    93.36    0.88\n",
      " 21    8000      76859.58     11907.74        8331.28     38896.63       488.27    87.27    95.29      90.88    81.24    75.90    94.00    93.37    93.68    0.88\n",
      " 21    8200      75471.36     11287.51        7871.50     37356.11       496.76    87.36    95.22      90.92    80.71    75.36    93.88    93.61    93.74    0.88\n",
      " 22    8400      77000.99     11084.59        7684.89     36845.58       452.95    87.38    95.22      91.01    81.00    75.63    94.69    94.33    94.51    0.88\n",
      " 23    8600      79409.20     11297.98        7939.75     37187.16       507.47    87.36    95.26      91.07    80.91    75.56    94.98    94.66    94.82    0.89\n",
      " 23    8800      80813.97     11144.21        7814.93     36407.43       482.24    87.36    95.24      90.94    80.87    75.59    94.63    94.04    94.33    0.88\n",
      " 24    9000      80210.03     10396.90        7259.51     35494.07       531.19    87.42    95.31      91.01    81.01    75.79    94.71    93.75    94.23    0.88\n",
      " 25    9200      82369.25     10814.01        7419.17     35129.01       446.79    87.45    95.30      91.12    81.19    75.98    94.85    93.89    94.37    0.89\n",
      " 25    9400      85842.37     10778.90        7582.99     35584.31       483.10    87.42    95.36      91.11    81.01    75.68    93.17    93.80    93.48    0.88\n",
      " 26    9600      81687.69     10058.66        6960.47     33426.63       440.89    87.34    95.25      91.08    81.12    75.76    94.75    94.57    94.66    0.89\n",
      " 27    9800      85527.85     10194.17        7085.36     34188.78       415.59    87.19    95.21      90.97    81.39    75.97    95.25    94.57    94.91    0.89\n",
      " 28   10000      90223.29     10524.87        7309.74     34447.08       455.95    87.46    95.41      91.14    81.30    75.98    93.65    93.56    93.60    0.88\n",
      " 28   10200      87857.03      9945.49        6870.61     33013.71       440.44    87.40    95.28      91.09    81.29    75.93    94.28    93.51    93.89    0.88\n",
      " 29   10400      88962.37      9674.41        6733.09     32341.88       421.26    87.32    95.31      91.04    81.21    75.91    93.16    93.61    93.38    0.88\n",
      " 30   10600      90288.79      9921.49        6817.35     32200.27       421.91    87.45    95.34      91.11    81.09    75.66    93.95    94.13    94.04    0.88\n",
      " 30   10800      96629.95      9850.56        6842.82     33337.57       412.19    87.49    95.38      91.20    81.46    76.15    94.21    93.94    94.08    0.89\n",
      " 31   11000      92001.61      9671.45        6722.42     31530.48       384.63    87.30    95.20      91.06    81.30    75.93    94.38    94.42    94.40    0.88\n",
      " 32   11200      94031.84      9525.16        6491.58     31548.94       370.47    87.50    95.23      91.06    81.24    76.09    94.22    93.99    94.10    0.88\n",
      " 32   11400     100402.66      9845.99        6870.75     32388.03       426.32    87.44    95.27      91.05    81.44    76.06    94.10    92.79    93.44    0.88\n",
      "\u001b[38;5;2m✔ Saved pipeline to output directory\u001b[0m\n",
      "models/spacy_lv/model-last\n"
     ]
    }
   ],
   "source": [
    "# ========================\n",
    "# Cell 6: 使用 GPU 训练（没有 GPU 就去掉 --gpu-id 0）\n",
    "# ========================\n",
    "!python -m spacy train ./config/config_spacy.cfg --output ./models/spacy_lv --paths.train ./corpus/lv_lvtb-ud-train.spacy --paths.dev ./corpus/lv_lvtb-ud-dev.spacy --gpu-id 0\n"
   ]
  },
  {
   "cell_type": "code",
   "execution_count": 9,
   "id": "6bd858d5",
   "metadata": {},
   "outputs": [
    {
     "name": "stdout",
     "output_type": "stream",
     "text": [
      "\u001b[38;5;4mℹ Using GPU: 0\u001b[0m\n",
      "\u001b[1m\n",
      "================================== Results ==================================\u001b[0m\n",
      "\n",
      "TOK      99.53\n",
      "TAG      86.64\n",
      "POS      94.83\n",
      "MORPH    90.76\n",
      "UAS      80.58\n",
      "LAS      74.95\n",
      "SENT P   97.10\n",
      "SENT R   96.49\n",
      "SENT F   96.80\n",
      "SPEED    23889\n",
      "\n",
      "\u001b[1m\n",
      "============================== MORPH (per feat) ==============================\u001b[0m\n",
      "\n",
      "                P        R        F\n",
      "ExtPos      86.47    82.73    84.56\n",
      "Case        92.33    91.76    92.05\n",
      "Gender      93.65    92.95    93.30\n",
      "Number      94.18    92.99    93.58\n",
      "Person      94.86    93.86    94.36\n",
      "PronType    98.53    97.63    98.08\n",
      "Evident     94.16    93.35    93.76\n",
      "Mood        93.30    92.25    92.77\n",
      "Polarity    94.06    93.10    93.58\n",
      "Tense       91.17    89.48    90.32\n",
      "VerbForm    92.78    91.81    92.29\n",
      "Voice       93.75    91.85    92.79\n",
      "Definite    90.00    88.04    89.01\n",
      "Degree      92.50    90.57    91.52\n",
      "Poss       100.00   100.00   100.00\n",
      "NumType     98.65    76.91    86.44\n",
      "Reflex      92.86    93.66    93.25\n",
      "Aspect      89.77    85.40    87.53\n",
      "Foreign     81.36    50.53    62.34\n",
      "Typo         0.00     0.00     0.00\n",
      "Abbr        94.54    79.00    86.07\n",
      "\n",
      "\u001b[1m\n",
      "=============================== LAS (per type) ===============================\u001b[0m\n",
      "\n",
      "                    P       R       F\n",
      "mark            83.23   86.41   84.79\n",
      "fixed           88.65   89.93   89.29\n",
      "nsubj           79.43   80.82   80.12\n",
      "discourse       64.77   56.76   60.50\n",
      "advcl           61.13   54.50   57.63\n",
      "amod            80.84   78.76   79.79\n",
      "obj             81.54   79.64   80.58\n",
      "cc              81.53   81.15   81.34\n",
      "det             84.48   85.04   84.76\n",
      "conj            57.78   59.70   58.72\n",
      "xcomp           80.66   74.81   77.62\n",
      "aux             92.46   92.46   92.46\n",
      "root            83.44   82.64   83.04\n",
      "nmod            76.69   78.25   77.46\n",
      "ccomp           71.82   72.06   71.94\n",
      "nummod          88.00   85.21   86.58\n",
      "case            90.16   89.43   89.80\n",
      "iobj            56.92   53.26   55.03\n",
      "advmod          79.68   80.19   79.94\n",
      "obl             67.43   64.71   66.04\n",
      "advmod:emph     68.63   67.15   67.88\n",
      "cop             70.74   70.74   70.74\n",
      "aux:pass        86.46   92.52   89.39\n",
      "acl             65.23   67.27   66.23\n",
      "nsubj:pass      77.22   85.43   81.12\n",
      "advmod:neg      62.96   68.00   65.38\n",
      "parataxis       54.81   51.35   53.02\n",
      "appos           36.54   28.36   31.93\n",
      "dep              1.90    2.15    2.02\n",
      "csubj:pass      58.33   58.33   58.33\n",
      "csubj           62.64   55.88   59.07\n",
      "flat            58.33   42.68   49.30\n",
      "flat:foreign    50.00   25.00   33.33\n",
      "flat:name       87.01   61.05   71.75\n",
      "vocative        66.67   13.79   22.86\n",
      "orphan          24.07   13.00   16.88\n",
      "reparandum       0.00    0.00    0.00\n",
      "compound       100.00   66.67   80.00\n",
      "goeswith         0.00    0.00    0.00\n",
      "dislocated       0.00    0.00    0.00\n",
      "\n"
     ]
    }
   ],
   "source": [
    "# ========================\n",
    "# Cell 7: 模型评估\n",
    "# ========================\n",
    "!python -m spacy evaluate ./models/spacy_lv/model-best ./corpus/lv_lvtb-ud-test.spacy --gpu-id 0\n"
   ]
  },
  {
   "cell_type": "code",
   "execution_count": 10,
   "id": "827c3a0b",
   "metadata": {},
   "outputs": [
    {
     "name": "stderr",
     "output_type": "stream",
     "text": [
      "/home/jesse/Projects/myenvs/spacy_lv/lib/python3.12/site-packages/tqdm/auto.py:21: TqdmWarning: IProgress not found. Please update jupyter and ipywidgets. See https://ipywidgets.readthedocs.io/en/stable/user_install.html\n",
      "  from .autonotebook import tqdm as notebook_tqdm\n"
     ]
    },
    {
     "name": "stdout",
     "output_type": "stream",
     "text": [
      "✅ 模型已保存到 ./models/spacy_lv/model-no-lemma\n"
     ]
    }
   ],
   "source": [
    "# ========================\n",
    "# Cell 8: 不加入 Stanza lemmatizer，直接保存模型\n",
    "# ========================\n",
    "import spacy\n",
    "\n",
    "# 加载训练好的模型\n",
    "nlp = spacy.load(\"./models/spacy_lv/model-best\")\n",
    "\n",
    "# 保存到新路径（可选）\n",
    "nlp.to_disk(\"./models/spacy_lv/model-no-lemma\")\n",
    "print(\"✅ 模型已保存到 ./models/spacy_lv/model-no-lemma\")\n",
    "\n"
   ]
  },
  {
   "cell_type": "code",
   "execution_count": 11,
   "id": "e6e58a0e",
   "metadata": {},
   "outputs": [
    {
     "name": "stderr",
     "output_type": "stream",
     "text": [
      "/home/jesse/Projects/myenvs/spacy_lv/bin/python: No module named build\n",
      "warning: no files found matching 'LICENSE'\n",
      "warning: no files found matching 'LICENSES_SOURCES'\n"
     ]
    },
    {
     "name": "stdout",
     "output_type": "stream",
     "text": [
      "running sdist\n",
      "running egg_info\n",
      "creating lv_spacy_without_lemma.egg-info\n",
      "writing lv_spacy_without_lemma.egg-info/PKG-INFO\n",
      "writing dependency_links to lv_spacy_without_lemma.egg-info/dependency_links.txt\n",
      "writing entry points to lv_spacy_without_lemma.egg-info/entry_points.txt\n",
      "writing top-level names to lv_spacy_without_lemma.egg-info/top_level.txt\n",
      "writing manifest file 'lv_spacy_without_lemma.egg-info/SOURCES.txt'\n",
      "reading manifest file 'lv_spacy_without_lemma.egg-info/SOURCES.txt'\n",
      "reading manifest template 'MANIFEST.in'\n",
      "writing manifest file 'lv_spacy_without_lemma.egg-info/SOURCES.txt'\n",
      "running check\n",
      "creating lv_spacy_without_lemma-1.0.0\n",
      "creating lv_spacy_without_lemma-1.0.0/lv_spacy_without_lemma\n",
      "creating lv_spacy_without_lemma-1.0.0/lv_spacy_without_lemma.egg-info\n",
      "creating lv_spacy_without_lemma-1.0.0/lv_spacy_without_lemma/lv_spacy_without_lemma-1.0.0\n",
      "creating lv_spacy_without_lemma-1.0.0/lv_spacy_without_lemma/lv_spacy_without_lemma-1.0.0/morphologizer\n",
      "creating lv_spacy_without_lemma-1.0.0/lv_spacy_without_lemma/lv_spacy_without_lemma-1.0.0/parser\n",
      "creating lv_spacy_without_lemma-1.0.0/lv_spacy_without_lemma/lv_spacy_without_lemma-1.0.0/senter\n",
      "creating lv_spacy_without_lemma-1.0.0/lv_spacy_without_lemma/lv_spacy_without_lemma-1.0.0/tagger\n",
      "creating lv_spacy_without_lemma-1.0.0/lv_spacy_without_lemma/lv_spacy_without_lemma-1.0.0/tok2vec\n",
      "creating lv_spacy_without_lemma-1.0.0/lv_spacy_without_lemma/lv_spacy_without_lemma-1.0.0/vocab\n",
      "copying files to lv_spacy_without_lemma-1.0.0...\n",
      "copying MANIFEST.in -> lv_spacy_without_lemma-1.0.0\n",
      "copying README.md -> lv_spacy_without_lemma-1.0.0\n",
      "copying meta.json -> lv_spacy_without_lemma-1.0.0\n",
      "copying setup.py -> lv_spacy_without_lemma-1.0.0\n",
      "copying lv_spacy_without_lemma/__init__.py -> lv_spacy_without_lemma-1.0.0/lv_spacy_without_lemma\n",
      "copying lv_spacy_without_lemma/meta.json -> lv_spacy_without_lemma-1.0.0/lv_spacy_without_lemma\n",
      "copying lv_spacy_without_lemma.egg-info/PKG-INFO -> lv_spacy_without_lemma-1.0.0/lv_spacy_without_lemma.egg-info\n",
      "copying lv_spacy_without_lemma.egg-info/SOURCES.txt -> lv_spacy_without_lemma-1.0.0/lv_spacy_without_lemma.egg-info\n",
      "copying lv_spacy_without_lemma.egg-info/dependency_links.txt -> lv_spacy_without_lemma-1.0.0/lv_spacy_without_lemma.egg-info\n",
      "copying lv_spacy_without_lemma.egg-info/entry_points.txt -> lv_spacy_without_lemma-1.0.0/lv_spacy_without_lemma.egg-info\n",
      "copying lv_spacy_without_lemma.egg-info/not-zip-safe -> lv_spacy_without_lemma-1.0.0/lv_spacy_without_lemma.egg-info\n",
      "copying lv_spacy_without_lemma.egg-info/top_level.txt -> lv_spacy_without_lemma-1.0.0/lv_spacy_without_lemma.egg-info\n",
      "copying lv_spacy_without_lemma/lv_spacy_without_lemma-1.0.0/README.md -> lv_spacy_without_lemma-1.0.0/lv_spacy_without_lemma/lv_spacy_without_lemma-1.0.0\n",
      "copying lv_spacy_without_lemma/lv_spacy_without_lemma-1.0.0/config.cfg -> lv_spacy_without_lemma-1.0.0/lv_spacy_without_lemma/lv_spacy_without_lemma-1.0.0\n",
      "copying lv_spacy_without_lemma/lv_spacy_without_lemma-1.0.0/meta.json -> lv_spacy_without_lemma-1.0.0/lv_spacy_without_lemma/lv_spacy_without_lemma-1.0.0\n",
      "copying lv_spacy_without_lemma/lv_spacy_without_lemma-1.0.0/tokenizer -> lv_spacy_without_lemma-1.0.0/lv_spacy_without_lemma/lv_spacy_without_lemma-1.0.0\n",
      "copying lv_spacy_without_lemma/lv_spacy_without_lemma-1.0.0/morphologizer/cfg -> lv_spacy_without_lemma-1.0.0/lv_spacy_without_lemma/lv_spacy_without_lemma-1.0.0/morphologizer\n",
      "copying lv_spacy_without_lemma/lv_spacy_without_lemma-1.0.0/morphologizer/model -> lv_spacy_without_lemma-1.0.0/lv_spacy_without_lemma/lv_spacy_without_lemma-1.0.0/morphologizer\n",
      "copying lv_spacy_without_lemma/lv_spacy_without_lemma-1.0.0/parser/cfg -> lv_spacy_without_lemma-1.0.0/lv_spacy_without_lemma/lv_spacy_without_lemma-1.0.0/parser\n",
      "copying lv_spacy_without_lemma/lv_spacy_without_lemma-1.0.0/parser/model -> lv_spacy_without_lemma-1.0.0/lv_spacy_without_lemma/lv_spacy_without_lemma-1.0.0/parser\n",
      "copying lv_spacy_without_lemma/lv_spacy_without_lemma-1.0.0/parser/moves -> lv_spacy_without_lemma-1.0.0/lv_spacy_without_lemma/lv_spacy_without_lemma-1.0.0/parser\n",
      "copying lv_spacy_without_lemma/lv_spacy_without_lemma-1.0.0/senter/cfg -> lv_spacy_without_lemma-1.0.0/lv_spacy_without_lemma/lv_spacy_without_lemma-1.0.0/senter\n",
      "copying lv_spacy_without_lemma/lv_spacy_without_lemma-1.0.0/senter/model -> lv_spacy_without_lemma-1.0.0/lv_spacy_without_lemma/lv_spacy_without_lemma-1.0.0/senter\n",
      "copying lv_spacy_without_lemma/lv_spacy_without_lemma-1.0.0/tagger/cfg -> lv_spacy_without_lemma-1.0.0/lv_spacy_without_lemma/lv_spacy_without_lemma-1.0.0/tagger\n",
      "copying lv_spacy_without_lemma/lv_spacy_without_lemma-1.0.0/tagger/model -> lv_spacy_without_lemma-1.0.0/lv_spacy_without_lemma/lv_spacy_without_lemma-1.0.0/tagger\n",
      "copying lv_spacy_without_lemma/lv_spacy_without_lemma-1.0.0/tok2vec/cfg -> lv_spacy_without_lemma-1.0.0/lv_spacy_without_lemma/lv_spacy_without_lemma-1.0.0/tok2vec\n",
      "copying lv_spacy_without_lemma/lv_spacy_without_lemma-1.0.0/tok2vec/model -> lv_spacy_without_lemma-1.0.0/lv_spacy_without_lemma/lv_spacy_without_lemma-1.0.0/tok2vec\n",
      "copying lv_spacy_without_lemma/lv_spacy_without_lemma-1.0.0/vocab/key2row -> lv_spacy_without_lemma-1.0.0/lv_spacy_without_lemma/lv_spacy_without_lemma-1.0.0/vocab\n",
      "copying lv_spacy_without_lemma/lv_spacy_without_lemma-1.0.0/vocab/lookups.bin -> lv_spacy_without_lemma-1.0.0/lv_spacy_without_lemma/lv_spacy_without_lemma-1.0.0/vocab\n",
      "copying lv_spacy_without_lemma/lv_spacy_without_lemma-1.0.0/vocab/strings.json -> lv_spacy_without_lemma-1.0.0/lv_spacy_without_lemma/lv_spacy_without_lemma-1.0.0/vocab\n",
      "copying lv_spacy_without_lemma/lv_spacy_without_lemma-1.0.0/vocab/vectors -> lv_spacy_without_lemma-1.0.0/lv_spacy_without_lemma/lv_spacy_without_lemma-1.0.0/vocab\n",
      "copying lv_spacy_without_lemma/lv_spacy_without_lemma-1.0.0/vocab/vectors.cfg -> lv_spacy_without_lemma-1.0.0/lv_spacy_without_lemma/lv_spacy_without_lemma-1.0.0/vocab\n",
      "copying lv_spacy_without_lemma.egg-info/SOURCES.txt -> lv_spacy_without_lemma-1.0.0/lv_spacy_without_lemma.egg-info\n",
      "Writing lv_spacy_without_lemma-1.0.0/setup.cfg\n",
      "creating dist\n",
      "Creating tar archive\n",
      "removing 'lv_spacy_without_lemma-1.0.0' (and everything under it)\n",
      "✅ 打包完成，可以在 packages 文件夹里找到\n"
     ]
    }
   ],
   "source": [
    "# ========================\n",
    "# Cell 8.5: Notebook 打包修正版（使用相对路径）\n",
    "# ========================\n",
    "from spacy.cli.package import package\n",
    "import os\n",
    "from pathlib import Path\n",
    "\n",
    "# 创建 packages 文件夹\n",
    "Path(\"./packages\").mkdir(parents=True, exist_ok=True)\n",
    "\n",
    "# 设置相对路径到项目根目录（当前 notebook 所在目录的上一级或你项目目录）\n",
    "project_root = Path(\".\").resolve()  # 当前目录，也可以改成 Path(\"..\").resolve() 如果 notebook 在子目录\n",
    "os.environ[\"PYTHONPATH\"] = f\"{project_root}:{os.environ.get('PYTHONPATH','')}\"\n",
    "\n",
    "input_dir = Path(\"./models/spacy_lv/model-no-lemma\")\n",
    "output_dir = Path(\"./packages\")\n",
    "\n",
    "package(\n",
    "    input_dir=input_dir,\n",
    "    output_dir=output_dir,\n",
    "    name=\"spacy_without_lemma\",\n",
    "    version=\"1.0.0\",\n",
    "    force=True\n",
    ")\n",
    "\n",
    "\n",
    "print(\"✅ 打包完成，可以在 packages 文件夹里找到\")\n"
   ]
  },
  {
   "cell_type": "code",
   "execution_count": null,
   "id": "3a561da9",
   "metadata": {},
   "outputs": [],
   "source": [
    "# ========================\n",
    "# Cell 9: 安装并测试打包好的拉脱维亚语模型\n",
    "# ========================\n",
    "import subprocess\n",
    "import spacy\n",
    "\n",
    "package_path = \"./packages/lv_spacy_without_lemma-1.0.0/dist/lv_spacy_without_lemma-1.0.0.tar.gz\"\n",
    "\n",
    "# 安装模型\n",
    "subprocess.run([\"pip\", \"install\", package_path])\n",
    "\n",
    "# 加载模型\n",
    "nlp = spacy.load(\"lv_spacy_without_lemma\")\n",
    "\n",
    "# 查看 pipeline 组件\n",
    "print(\"Pipeline组件：\", nlp.pipe_names)\n",
    "print(\"组件数量：\", len(nlp.pipe_names))\n"
   ]
  },
  {
   "cell_type": "code",
   "execution_count": null,
   "id": "7e53c4fa",
   "metadata": {},
   "outputs": [],
   "source": [
    "# ========================\n",
    "# Cell 10: 测试模型，不显示 Lemma，并显示分句\n",
    "# ========================\n",
    "import spacy\n",
    "import pandas as pd\n",
    "\n",
    "nlp = spacy.load(\"lv_spacy_without_lemma\")\n",
    "\n",
    "text = \"\"\"Rīga ir Latvijas galvaspilsēta un viens no galvenajiem rūpniecības, darījumu, kultūras, sporta un finanšu centriem Baltijas valstīs, kā arī nozīmīga ostas pilsēta. Ar 605 273 iedzīvotājiem (2024. gada dati) tā ir lielākā apdzīvotā vieta Latvijā. Tās robežās dzīvo aptuveni viena trešdaļa, bet Rīgas aglomerācijā — vairāk nekā puse visu Latvijas iedzīvotāju. Pilsētas teritorijas platība ir 307,17 km2. Rīgas vēsturiskais centrs ir iekļauts UNESCO Pasaules kultūras mantojuma sarakstā un ir ievērojams ar jūgendstila arhitektūru, kurai, pēc UNESCO viedokļa, nav līdzīgu pasaulē.\"\"\"\n",
    "\n",
    "doc = nlp(text)\n",
    "\n",
    "# 先生成 token 表格\n",
    "rows = []\n",
    "for sent in doc.sents:\n",
    "    for token in sent:\n",
    "        rows.append({\n",
    "            \"Text\": token.text,\n",
    "            \"POS\": token.pos_,\n",
    "            \"Dependency\": token.dep_,\n",
    "            \"Head\": token.head.text\n",
    "        })\n",
    "\n",
    "df = pd.DataFrame(rows)\n",
    "\n",
    "pd.set_option(\"display.max_rows\", None)\n",
    "pd.set_option(\"display.max_colwidth\", None)\n",
    "display(df)  # 显示 token 表格\n",
    "\n",
    "# 再单独显示分句\n",
    "print(\"\\n✅ 分句结果：\")\n",
    "for i, sent in enumerate(doc.sents, 1):\n",
    "    print(f\"Sentence {i}: {sent.text}\")\n",
    "\n"
   ]
  }
 ],
 "metadata": {
  "kernelspec": {
   "display_name": "spacy_lv",
   "language": "python",
   "name": "python3"
  },
  "language_info": {
   "codemirror_mode": {
    "name": "ipython",
    "version": 3
   },
   "file_extension": ".py",
   "mimetype": "text/x-python",
   "name": "python",
   "nbconvert_exporter": "python",
   "pygments_lexer": "ipython3",
   "version": "3.12.3"
  }
 },
 "nbformat": 4,
 "nbformat_minor": 5
}
