{
 "cells": [
  {
   "cell_type": "code",
   "execution_count": 1,
   "id": "d0a25046",
   "metadata": {},
   "outputs": [],
   "source": [
    "# Cell 1:\n",
    "import json\n",
    "from pathlib import Path\n"
   ]
  },
  {
   "cell_type": "code",
   "execution_count": 2,
   "id": "437cfdbb",
   "metadata": {},
   "outputs": [],
   "source": [
    "# Cell 2: \n",
    "def extract_lemma_pairs(conllu_file):\n",
    "    \"\"\"从 .conllu 文件里提取 (form, lemma) 对\"\"\"\n",
    "    pairs = []\n",
    "    with open(conllu_file, \"r\", encoding=\"utf-8\") as f:\n",
    "        for line in f:\n",
    "            if line.startswith(\"#\") or not line.strip():\n",
    "                continue\n",
    "            cols = line.strip().split(\"\\t\")\n",
    "            if len(cols) < 3:\n",
    "                continue\n",
    "            form, lemma = cols[1], cols[2]\n",
    "            if lemma != \"_\":  # 确保有 lemma\n",
    "                pairs.append((form, lemma))\n",
    "    return pairs\n"
   ]
  },
  {
   "cell_type": "code",
   "execution_count": 3,
   "id": "f14ec184",
   "metadata": {},
   "outputs": [
    {
     "name": "stdout",
     "output_type": "stream",
     "text": [
      "总共提取到 329882 个 (form, lemma) 对\n"
     ]
    }
   ],
   "source": [
    "# Cell 3: \n",
    "# 你的 UD 文件路径\n",
    "ud_dir = Path(\"./ud_latvian\")\n",
    "\n",
    "files = [\n",
    "    ud_dir / \"lv_lvtb-ud-train.conllu\",\n",
    "    ud_dir / \"lv_lvtb-ud-dev.conllu\",\n",
    "    ud_dir / \"lv_lvtb-ud-test.conllu\"\n",
    "]\n",
    "\n",
    "lemma_pairs = []\n",
    "for f in files:\n",
    "    lemma_pairs.extend(extract_lemma_pairs(f))\n",
    "\n",
    "print(f\"总共提取到 {len(lemma_pairs)} 个 (form, lemma) 对\")\n"
   ]
  },
  {
   "cell_type": "code",
   "execution_count": 4,
   "id": "3c0ff03f",
   "metadata": {},
   "outputs": [],
   "source": [
    "# Cell 4:\n",
    "# 转换为 dict: word -> lemma\n",
    "lookup_dict = {}\n",
    "for form, lemma in lemma_pairs:\n",
    "    if form not in lookup_dict:\n",
    "        lookup_dict[form] = lemma\n"
   ]
  },
  {
   "cell_type": "code",
   "execution_count": 5,
   "id": "94277aa6",
   "metadata": {},
   "outputs": [
    {
     "name": "stdout",
     "output_type": "stream",
     "text": [
      "✅ 已经生成 lookup.json\n"
     ]
    }
   ],
   "source": [
    "# Cell 5:\n",
    "with open(\"lookup.json\", \"w\", encoding=\"utf-8\") as f:\n",
    "    json.dump({\"lemma_lookup\": lookup_dict}, f, ensure_ascii=False, indent=2)\n",
    "\n",
    "print(\"✅ 已经生成 lookup.json\")\n",
    "\n"
   ]
  },
  {
   "cell_type": "code",
   "execution_count": 6,
   "id": "df7bdaa9",
   "metadata": {},
   "outputs": [
    {
     "name": "stdout",
     "output_type": "stream",
     "text": [
      "Hēra -> Hēra\n",
      "valda -> valdīt\n",
      "augstajā -> augsts\n",
      "Olimpā -> Olimps\n",
      ". -> .\n",
      "Viņa -> viņa\n",
      ", -> ,\n",
      "tāpat -> tāpat\n",
      "kā -> kā\n",
      "viņas -> viņa\n",
      "vīrs -> vīrs\n",
      "Zevs -> Zevs\n",
      "ir -> būt\n",
      "pavēlniece -> pavēlniece\n",
      "pār -> pār\n",
      "pērkoniem -> pērkons\n",
      "un -> un\n",
      "zibeņiem -> zibens\n",
      "; -> ;\n",
      "paklausot -> paklausīt\n",
      "vārdam -> vārds\n",
      "tumšo -> tumšs\n"
     ]
    }
   ],
   "source": [
    "# Cell 6:\n",
    "with open(\"lookup.json\", \"r\", encoding=\"utf-8\") as f:\n",
    "    data = json.load(f)\n",
    "\n",
    "for i, (word, lemma) in enumerate(data[\"lemma_lookup\"].items()):\n",
    "    print(word, \"->\", lemma)\n",
    "    if i > 20:  # 打印前 20 个\n",
    "        break\n"
   ]
  }
 ],
 "metadata": {
  "kernelspec": {
   "display_name": "spacy_lv",
   "language": "python",
   "name": "python3"
  },
  "language_info": {
   "codemirror_mode": {
    "name": "ipython",
    "version": 3
   },
   "file_extension": ".py",
   "mimetype": "text/x-python",
   "name": "python",
   "nbconvert_exporter": "python",
   "pygments_lexer": "ipython3",
   "version": "3.12.3"
  }
 },
 "nbformat": 4,
 "nbformat_minor": 5
}
